{
 "cells": [
  {
   "cell_type": "code",
   "execution_count": 1,
   "metadata": {},
   "outputs": [],
   "source": [
    "# Laurent LEQUIEVRE\n",
    "# Research Engineer, CNRS (France)\n",
    "# Institut Pascal UMR6602\n",
    "# laurent.lequievre@uca.fr"
   ]
  },
  {
   "cell_type": "markdown",
   "metadata": {},
   "source": [
    "# CartPole"
   ]
  },
  {
   "cell_type": "markdown",
   "metadata": {},
   "source": [
    "<img src=\"cartpole.png\">"
   ]
  },
  {
   "cell_type": "markdown",
   "metadata": {},
   "source": [
    "https://github.com/openai/gym/blob/master/gym/envs/classic_control/cartpole.py\n",
    "    \n",
    "# Description:\n",
    "A pole is attached by an un-actuated joint to a cart, which moves along a frictionless track. The pendulum starts upright, and the goal is to\n",
    "prevent it from falling over by increasing and reducing the cart's velocity.\n",
    "# Source:\n",
    "    This environment corresponds to the version of the cart-pole problem described by Barto, Sutton, and Anderson\n",
    "# Observation:\n",
    "    Type: Box(4)\n",
    "    Num     Observation               Min                     Max\n",
    "    0       Cart Position             -4.8                    4.8\n",
    "    1       Cart Velocity             -Inf                    Inf\n",
    "    2       Pole Angle                -0.418 rad (-24 deg)    0.418 rad (24 deg)\n",
    "    3       Pole Angular Velocity     -Inf                    Inf\n",
    "# Actions:\n",
    "    Type: Discrete(2)\n",
    "    Num   Action\n",
    "    0     Push cart to the left\n",
    "    1     Push cart to the right\n",
    "    Note: The amount the velocity that is reduced or increased is not fixed; it depends on the angle the pole is pointing. This is because the center of gravity of the pole increases the amount of energy needed to move the cart underneath it\n",
    "# Reward:\n",
    "    Reward is 1 for every step taken, including the termination step\n",
    "# Starting State:\n",
    "    All observations are assigned a uniform random value in [-0.05..0.05]\n",
    "# Episode Termination:\n",
    "    - Pole Angle is more than 12 degrees.\n",
    "    - Cart Position is more than 2.4 (center of the cart reaches the edge of the display).\n",
    "    - Episode length is greater than 200.\n",
    "    Solved Requirements:\n",
    "    Considered solved when the average return is greater than or equal to\n",
    "    195.0 over 100 consecutive trials."
   ]
  },
  {
   "cell_type": "code",
   "execution_count": 10,
   "metadata": {},
   "outputs": [],
   "source": [
    "# OpenAI Gym is a toolkit for developing and comparing reinforcement learning algorithms.\n",
    "\n",
    "# Agent are a single entity (the algorithm you are writing) that, through trial and error, \n",
    "# learn how to exploit their actions to gain reward.\n",
    "\n",
    "# It sends actions to the environment, and the environment replies with observations (states)\n",
    "# and rewards (that is, a score).\n",
    "\n",
    "# The agent must have a policy/strategy (to select an action) and have a mechanism \n",
    "# to improve this strategy as it interacts more and more with the environment.\n"
   ]
  },
  {
   "cell_type": "code",
   "execution_count": 1,
   "metadata": {},
   "outputs": [],
   "source": [
    "import gym"
   ]
  },
  {
   "cell_type": "code",
   "execution_count": 2,
   "metadata": {},
   "outputs": [],
   "source": [
    "env = gym.make('CartPole-v0')  # CartPole-v0 only runs for 200 steps. CartPole-v1 runs for 500 steps."
   ]
  },
  {
   "cell_type": "markdown",
   "metadata": {},
   "source": [
    "<img src=\"gym_openai.png\">"
   ]
  },
  {
   "cell_type": "markdown",
   "metadata": {},
   "source": [
    "# Environment comes with an action_space and an observation_space :\n",
    "\n",
    "These attributes are of type Space, and they describe the format of valid actions and observations.\n",
    "\n",
    "The 'Discrete' space allows a fixed range of non-negative numbers.\n",
    "- Discrete(2) -> in this case valid actions are either 0 or 1.\n",
    "- Discrete(8) -> Set with 8 elements {0, 1, 2, ..., 7}\n",
    "\n",
    "The 'Box' space represents an n-dimensional box.\n",
    "- Box(4,) -> valid observations will be an array of 4 numbers (in that example, there is only one dimension)."
   ]
  },
  {
   "cell_type": "code",
   "execution_count": 3,
   "metadata": {},
   "outputs": [
    {
     "name": "stdout",
     "output_type": "stream",
     "text": [
      "action space = Discrete(2)\n",
      "nb actions = 2\n",
      "a sample of action = 1\n",
      "a sample of action = 0\n",
      "a sample of action = 0\n",
      "observation space = Box(-3.4028234663852886e+38, 3.4028234663852886e+38, (4,), float32)\n",
      "observation space shape = (4,)\n",
      "observation high = [4.8000002e+00 3.4028235e+38 4.1887903e-01 3.4028235e+38]\n",
      "observation low = [-4.8000002e+00 -3.4028235e+38 -4.1887903e-01 -3.4028235e+38]\n",
      "x cart pos high = 4.800000190734863\n",
      "x cart pos low = -4.800000190734863\n",
      "x cart velocity high = 3.4028234663852886e+38\n",
      "x cart velocity low = -3.4028234663852886e+38\n",
      "Angular pole pos high = 0.41887903213500977\n",
      "Angular pole pos low = -0.41887903213500977\n",
      "Angular pole velocity high = 3.4028234663852886e+38\n",
      "Angular pole velocity low = -3.4028234663852886e+38\n"
     ]
    }
   ],
   "source": [
    "# About action and observation space\n",
    "\n",
    "# action_space\n",
    "print(\"action space = {}\".format(env.action_space)) # Discrete(2)\n",
    "print(\"nb actions = {}\".format(env.action_space.n)) # 2\n",
    "# 0 Push cart to the left\n",
    "# 1 Push cart to the right\n",
    "\n",
    "for _ in range(3):\n",
    "    # Randomly sample an element of this space => random(2) (just to test)\n",
    "    print(\"a sample of action = {}\".format(env.action_space.sample()))\n",
    "    \n",
    "# observation_space\n",
    "# observation = x position of cart, x velocity of cart, angular position of pole, angular velocity of pole\n",
    "print(\"observation space = {}\".format(env.observation_space))\n",
    "print(\"observation space shape = {}\".format(env.observation_space.shape)) # (4,)\n",
    "\n",
    "# We can also check the observation Box’s bounds\n",
    "print(\"observation high = {}\".format(env.observation_space.high))\n",
    "print(\"observation low = {}\".format(env.observation_space.low))\n",
    "\n",
    "# Observation limits in details\n",
    "print(\"x cart pos high = {}\".format(env.observation_space.high[0])) # 4.8\n",
    "print(\"x cart pos low = {}\".format(env.observation_space.low[0])) # -4.8\n",
    "\n",
    "print(\"x cart velocity high = {}\".format(env.observation_space.high[1])) # Inf\n",
    "print(\"x cart velocity low = {}\".format(env.observation_space.low[1])) # -Inf\n",
    "\n",
    "print(\"Angular pole pos high = {}\".format(env.observation_space.high[2])) # 0.418 rad (~ 24 deg)\n",
    "print(\"Angular pole pos low = {}\".format(env.observation_space.low[2])) # -0.418 rad (~ -24 deg)\n",
    "\n",
    "print(\"Angular pole velocity high = {}\".format(env.observation_space.high[3])) # Inf\n",
    "print(\"Angular pole velocity low = {}\".format(env.observation_space.low[3])) # -Inf\n"
   ]
  },
  {
   "cell_type": "markdown",
   "metadata": {},
   "source": [
    "# The 'step' function returns four values :\n",
    "\n",
    "- observation (object): \n",
    "an environment-specific object representing your observation of the environment. \n",
    "For example, pixel data from a camera, joint angles and joint velocities of a robot, or the board state in a board game.\n",
    "\n",
    "- reward (float): \n",
    "amount of reward achieved by the previous action. \n",
    "The scale varies between environments, but the goal is always to increase your total reward.\n",
    "\n",
    "- done (boolean): \n",
    "whether it’s time to reset the environment again. \n",
    "Most (but not all) tasks are divided up into well-defined episodes, and done being True indicates the episode has terminated. \n",
    "(For example, perhaps the pole tipped too far, or you lost your last life.)\n",
    "\n",
    "- info (dict): \n",
    "diagnostic information useful for debugging. \n",
    "It can sometimes be useful for learning (for example, it might contain the raw probabilities behind the environment’s last state change). \n",
    "However, official evaluations of your agent are not allowed to use this for learning.\n",
    "\n",
    "\n",
    "Example for CartPole : array([-0.00842369, -0.17244261, -0.0034994 ,  0.24360119]), 1.0, False, {}\n",
    "    \n",
    "    observation = array([x position of cart, x velocity of cart, angular position of pole, angular velocity of pole])\n",
    "    reward = 1.0\n",
    "    done = False\n",
    "    info = {}\n",
    "    \n",
    "# The 'reset' function returns :\n",
    "\n",
    "- observation (object): \n",
    "an environment-specific object representing your observation of the environment. \n",
    "For example, pixel data from a camera, joint angles and joint velocities of a robot, or the board state in a board game.\n",
    "\n",
    "\n",
    "# About 'done' :\n",
    "\n",
    "- The environment will return done=True if either 200 timesteps have elapsed (episode success) \n",
    "or if the pole has fallen over (angular position of the pole has reached +- 12 degrees) \n",
    "or the cart has left the simulation space (cart position has reached +- 2.4), in which case the episode failed."
   ]
  },
  {
   "cell_type": "code",
   "execution_count": 8,
   "metadata": {},
   "outputs": [
    {
     "name": "stdout",
     "output_type": "stream",
     "text": [
      "initial observation = [-0.03640544  0.02582775 -0.04168783 -0.01946892]\n"
     ]
    },
    {
     "data": {
      "image/png": "[encoded data removed]",
      "text/plain": [
       "<Figure size 432x288 with 1 Axes>"
      ]
     },
     "metadata": {
      "needs_background": "light"
     },
     "output_type": "display_data"
    },
    {
     "name": "stdout",
     "output_type": "stream",
     "text": [
      "Average reward per episode : 22.56\n"
     ]
    }
   ],
   "source": [
    "# Example 1 :\n",
    "# Selecting actions randomly\n",
    "# Calulating reward per episode\n",
    "\n",
    "from torch import randint\n",
    "import matplotlib.pyplot as plt\n",
    "import numpy as np\n",
    "\n",
    "# Just to test initial observation\n",
    "initial_obs = env.reset() # reset environment\n",
    "print(\"initial observation = {}\".format(initial_obs))\n",
    "\n",
    "reward_array = []\n",
    "episode_count = 100\n",
    "\n",
    "plt.xlabel('episodes')\n",
    "plt.ylabel('sum reward')\n",
    "\n",
    "for i in range(episode_count):\n",
    "    # obs = reset initial obs, done = False, sum_reward per episode = 0\n",
    "    obs, done, sum_reward = env.reset(), False, 0\n",
    "    \n",
    "    while (done != True) :\n",
    "        # Tensor A size : torch.Size([1])\n",
    "        A =  randint(0,env.action_space.n,(1,))  # get a random action from 0 (inclusive) to 2 (exclusive)\n",
    "        \n",
    "        #env.render() # will open a GUI window and show you the cartpole.\n",
    "        \n",
    "        obs, reward, done, info = env.step(A.item()) # apply the random action to the environment\n",
    "        sum_reward += reward\n",
    "        \n",
    "    reward_array.append(sum_reward) # add sum_reward to reward array\n",
    "    \n",
    "env.close() # close environment\n",
    "\n",
    "t = np.arange(0, episode_count, 1)\n",
    "plt.plot(t,reward_array,'ro') # plot with pyplot function the reward array\n",
    "plt.show()\n",
    "\n",
    "print(\"Average reward per episode :\",sum(reward_array)/ len(reward_array))"
   ]
  },
  {
   "cell_type": "code",
   "execution_count": 5,
   "metadata": {},
   "outputs": [],
   "source": [
    "# The Solution that take a random action is very bad.\n",
    "# In that case, there is 100 episodes and each episode has a cumulated reward between 21 and 23,\n",
    "# (Reward is 1 for every step taken, including the termination step)\n",
    "# The environment will return done=True if either 200 timesteps have elapsed (episode success)\n",
    "# or if the pole has fallen over (angular position of the pole has reached +- 12 degrees) \n",
    "# or the cart has left the simulation space (cart position has reached +- 2.4), in which case the episode failed.\n",
    "\n",
    "# The objective now is to define a policy which allows us to receive 200 rewards per episode.\n",
    "# By using reinforcement learning techniques such as the DQN algorithm.\n",
    "\n",
    "# Pay attention : while DQN solves problems with high-dimensional observation spaces, \n",
    "# it can only handle discrete and low-dimensional action spaces"
   ]
  },
  {
   "cell_type": "code",
   "execution_count": null,
   "metadata": {},
   "outputs": [],
   "source": [
    "# DQN algorithm represent a policy via a Deep Neural Network (DNN).\n",
    "\n",
    "# This DNN will look at the given observation and will tell us which action is best to take in the current state.\n",
    "# A kind of function approximator.\n",
    "# In fact, the network takes a state(‘s) as the input and produces the Q-values for every action in the action space.\n",
    "# Then we just have to take the max Q-value to take the corresponding action in the environment.\n",
    "# best_action = arg max(DNN predicted Q-values ).\n",
    "\n",
    "# We can evaluate and correct the DNN by using any loss function (Mean Squared Error) \n",
    "# between predicted and target returns.\n",
    "\n",
    "# Since we don’t know the “target” as it’s a reinforcement learning \n",
    "# (not supervised so no labels) so we have to estimate it : target = R + γ max A` Q(S`, A`)\n",
    "# We get the reward R and Next state S` when we perform an action in the environment.\n",
    "# R → the current immediate reward\n",
    "# S` → Next state\n",
    "# max A` Q(S`, A`) → max(\"target DNN\" output list of Q-values for the next state)\n",
    "# γ → the discount factor γ → {0,1}\n",
    "# To calculate Q(S`, A`)  we maintain another network we call the \"target network\", \n",
    "# and we assign the \"actual network\" weights to the \"target network\" for every N iterations.\n",
    "# The reason for this is we update the actual network gradients for every frame/action \n",
    "# so the network keeps on changing so it’s not feasible to use the same network for \n",
    "# calculating the actual reward.\n",
    "\n",
    "# Later, with this loss information, we can use Gradient Descent to optimize \n",
    "# the weights of the DNN to minimize this loss. \n",
    "# (update it’s gradients using backprop to converge)\n",
    "\n",
    "# Training such a network requires a lot of data, but even then, it is not guaranteed \n",
    "# to converge on the optimal value function. \n",
    "# In fact, there are situations where the network weights can oscillate or diverge, \n",
    "# due to the high correlation between actions and states.\n",
    "# In order to solve this, we need two techniques : Experience Replay and Target Network\n",
    "\n",
    "# Experience Replay :\n",
    "# -----------------\n",
    "# We can prevent action values from oscillating or diverging catastrophically using\n",
    "# a large buffer of our past experience and sample training data from it, \n",
    "# instead of using our latest experience. \n",
    "# This technique is called replay buffer or experience buffer. \n",
    "# The replay buffer contains a collection of experience tuples (S, A, R, S′).\n",
    "# The act of sampling a small batch of tuples from the replay buffer in order \n",
    "# to learn is known as experience replay.\n",
    "# (using a random subset of these experiences to update the Q-network, \n",
    "# rather than using just the single most recent experience, \n",
    "# which also allows us to break the correlation between subsequent steps in the environment)\n",
    "\n",
    "# Target Network :\n",
    "# --------------\n",
    "# The Bellman equation provides us with the value of Q(s, a) via Q(s’, a’). (s' = next state) \n",
    "# However, both the states s and s’ have only one step between them.\n",
    "# When we perform an update of our Neural Networks’ parameters to make Q(s, a) closer \n",
    "# to the desired result, we can indirectly alter the value produced for Q(s’, a’) \n",
    "# and other states nearby. This can make our training very unstable.\n",
    "# To make training more stable, we use a second Q-network called \"target network\", \n",
    "# by which we keep a copy of our neural network and use it for the Q(s’, a’) value \n",
    "# in the Bellman equation.\n",
    "# The predicted Q values of this second Q-network called the target network, \n",
    "# are used to backpropagate through and train the main Q-network. \n",
    "# The target network’s parameters are not trained, but they are periodically synchronized \n",
    "# with the parameters of the main Q-network."
   ]
  },
  {
   "cell_type": "code",
   "execution_count": 4,
   "metadata": {},
   "outputs": [],
   "source": [
    "# Reference :\n",
    "# https://blog.gofynd.com/building-a-deep-q-network-in-pytorch-fa1086aa5435\n",
    "# https://github.com/mahakal001/reinforcement-learning\n",
    "\n",
    "import torch\n",
    "from torch import nn\n",
    "import copy\n",
    "from collections import deque\n",
    "import random\n",
    "\n",
    "class DQN_Agent:\n",
    "\n",
    "    # Constructor of the class\n",
    "    def __init__(self, seed, layer_sizes, lr, sync_freq, exp_replay_size):\n",
    "        torch.manual_seed(seed) # set torch seed value\n",
    "        self.q_net = self.build_nn(layer_sizes) # create Q main network\n",
    "        self.target_net = copy.deepcopy(self.q_net) # create Q target network with a copy of Q main.\n",
    "        self.q_net.cuda() # use cuda device\n",
    "        self.target_net.cuda() # use cuda device\n",
    "        self.loss_fn = torch.nn.MSELoss() # use loss function : mean squared error (squared L2 norm)\n",
    "        self.optimizer = torch.optim.Adam(self.q_net.parameters(), lr=lr) # use Adam optimizer on the Q main net parameters.\n",
    "\n",
    "        self.network_sync_freq = sync_freq # set frequency of synchro between Q main and Q target net.\n",
    "        self.network_sync_counter = 0\n",
    "        self.gamma = torch.tensor(0.95).float().cuda() # set discount factor value for the futur rewards.\n",
    "        self.experience_replay = deque(maxlen=exp_replay_size) # create a replay buffer.\n",
    "        return\n",
    "    \n",
    "    # Build the Q main net :\n",
    "    # Sequential(\n",
    "    #  (0): Linear(in_features=4, out_features=64, bias=True)\n",
    "    #  (1): Tanh()\n",
    "    #  (2): Linear(in_features=64, out_features=2, bias=True)\n",
    "    #  (3): Identity()\n",
    "    # )\n",
    "    def build_nn(self, layer_sizes):\n",
    "        assert len(layer_sizes) > 1\n",
    "        layers = []\n",
    "        for index in range(len(layer_sizes) - 1):\n",
    "            linear = nn.Linear(layer_sizes[index], layer_sizes[index + 1])\n",
    "            act = nn.Tanh() if index < len(layer_sizes) - 2 else nn.Identity()\n",
    "            layers += (linear, act)\n",
    "        return nn.Sequential(*layers)\n",
    "\n",
    "    # Load q main net parameters from a file named \"cartpole-dqn.pth\n",
    "    def load_pretrained_model(self, model_path):\n",
    "        self.q_net.load_state_dict(torch.load(model_path))\n",
    "\n",
    "    # Save parameters of q main net to a file named \"cartpole-dqn.pth\"\n",
    "    def save_trained_model(self, model_path=\"cartpole-dqn.pth\"):\n",
    "        torch.save(self.q_net.state_dict(), model_path)\n",
    "\n",
    "    # From a state, give me an action (0 or 1)\n",
    "    # Example : tensor([0])\n",
    "    def get_action(self, state, action_space_len, epsilon):\n",
    "        # We do not require gradient at this point, because this function will be used either\n",
    "        # during experience collection or during inference \n",
    "        with torch.no_grad():\n",
    "            Qp = self.q_net(torch.from_numpy(state).float().cuda()) # forward state in q main net and get Q values (2 values).\n",
    "        \n",
    "        # Q = max value of 2 Q Values (Qp), A = index of the max (0 or 1)\n",
    "        Q, A = torch.max(Qp, axis=0) \n",
    "        \n",
    "        # We can either choose the action corresponding to maximum Q-value(exploitation) \n",
    "        # or with a small probability, epsilon, a random action can be selected(exploration)\n",
    "        A = A if torch.rand(1, ).item() > epsilon else torch.randint(0, action_space_len, (1,))\n",
    "        \n",
    "        # A is a Tensor with 1 value (0 or 1) = Action\n",
    "        return A\n",
    "\n",
    "    # get Q value (the max) of next state by using Q target net.\n",
    "    # state is a tensor that can contain a batch of 4 values\n",
    "    def get_q_next(self, state):\n",
    "        with torch.no_grad():\n",
    "            qp = self.target_net(state)\n",
    "        q, _ = torch.max(qp, axis=1)\n",
    "        return q\n",
    "\n",
    "    # Add a new experience into replay buffer\n",
    "    # Example : send 1 as step to the env (Push cart to the right)\n",
    "    # obs = env.reset()\n",
    "    # obs_next, reward, done, _ = env.step(1)\n",
    "    # experience = [obs, 1, reward, obs_next]\n",
    "    # -> experience is a list of 4 elements [obs, action, reward, next obs]\n",
    "    def collect_experience(self, experience):\n",
    "        self.experience_replay.append(experience)\n",
    "        return\n",
    "\n",
    "    # Extract a sample of size sample_size from replay buffer\n",
    "    # For example : \n",
    "    # sample_from_experience(2) give :\n",
    "    # ( tensor([[ 0.0382,  0.0329, -0.0285, -0.0199],[-0.0285, -0.0212, -0.0015, -0.0407]]),\n",
    "    # tensor([0., 0.]), tensor([1., 1.]),\n",
    "    # tensor([[ 0.0389, -0.1618, -0.0289,  0.2637],[-0.0289, -0.2163, -0.0023,  0.2515]]) )\n",
    "    # A tuple composed with a tensor of 2 obs/states, a tensor of 2 actions,\n",
    "    # a tensor of 2 rewards, a tensor of 2 next obs/states\n",
    "    def sample_from_experience(self, sample_size):\n",
    "        if len(self.experience_replay) < sample_size:\n",
    "            sample_size = len(self.experience_replay)\n",
    "            \n",
    "        # returns a random sample_size length list of items (experiences) chosen from the replay buffer\n",
    "        sample = random.sample(self.experience_replay, sample_size)\n",
    "        \n",
    "        # Each exp is a list -> [obs, action, reward, next obs]\n",
    "        s = torch.tensor([exp[0] for exp in sample]).float() # create a tensor of states\n",
    "        a = torch.tensor([exp[1] for exp in sample]).float() # create a tensor of actions\n",
    "        rn = torch.tensor([exp[2] for exp in sample]).float() # create a tensor of rewards\n",
    "        sn = torch.tensor([exp[3] for exp in sample]).float() # create a tensor of next states\n",
    "        return s, a, rn, sn\n",
    "    \n",
    "    # train Q main network with a batch of sample replay buffer\n",
    "    def train(self, batch_size):\n",
    "        s, a, rn, sn = self.sample_from_experience(sample_size=batch_size)\n",
    "        if self.network_sync_counter == self.network_sync_freq:\n",
    "            self.target_net.load_state_dict(self.q_net.state_dict())\n",
    "            self.network_sync_counter = 0\n",
    "\n",
    "        # predict expected return of current state using main network\n",
    "        qp = self.q_net(s.cuda()) # s is a Tensor \n",
    "        pred_return, _ = torch.max(qp, axis=1)\n",
    "\n",
    "        # get target return using target network\n",
    "        q_next = self.get_q_next(sn.cuda())\n",
    "        target_return = rn.cuda() + self.gamma * q_next\n",
    "\n",
    "        loss = self.loss_fn(pred_return, target_return)\n",
    "        self.optimizer.zero_grad()\n",
    "        loss.backward(retain_graph=True)\n",
    "        self.optimizer.step()\n",
    "\n",
    "        self.network_sync_counter += 1\n",
    "        return loss.item()"
   ]
  },
  {
   "cell_type": "code",
   "execution_count": 5,
   "metadata": {},
   "outputs": [],
   "source": [
    "# Reference :\n",
    "# https://blog.gofynd.com/building-a-deep-q-network-in-pytorch-fa1086aa5435\n",
    "# https://github.com/mahakal001/reinforcement-learning\n",
    "\n",
    "# Create a DQN Agent\n",
    "\n",
    "input_dim = env.observation_space.shape[0]  # 4 => Cart Position, Cart Velocity, Pole Angle, Pole Angular Velocity\n",
    "output_dim = env.action_space.n # 2 => Push cart to the left, Push cart to the right\n",
    "\n",
    "exp_replay_size = 256 # size ot the replay buffer\n",
    "\n",
    "agent = DQN_Agent(seed=1423, layer_sizes=[input_dim, 64, output_dim], lr=1e-3, sync_freq=5,\n",
    "                  exp_replay_size=exp_replay_size) \n",
    "\n",
    "# learning rate = 1e-3\n",
    "# Deep learning neural networks are trained using the stochastic gradient descent algorithm.\n",
    "# The amount that the weights are updated during training is referred to as the step size \n",
    "# or the “learning rate.”\n",
    "# Smaller learning rates require more training epochs given the smaller changes made \n",
    "# to the weights each update, whereas larger learning rates result in rapid changes \n",
    "# and require fewer training epochs.\n",
    "# A learning rate that is too large can cause the model to converge too quickly \n",
    "# to a suboptimal solution, whereas a learning rate that is too small can cause \n",
    "# the process to get stuck\n",
    "\n",
    "# seed=1423\n",
    "# It will set the seed of the random number generator to a fixed value, \n",
    "# the results will be reproducible.\n",
    "\n",
    "# sync_freq=5\n",
    "# Every 5 counts, the target network (self.target_net) will be synchronized with \n",
    "# the q main network ( self.q_net).\n",
    "\n",
    "# layer_sizes=[input_dim, 64, output_dim] -> [4, 64, 2]\n",
    "# The Q \"main network\" will be like this :\n",
    "# Sequential(\n",
    "#  (0): Linear(in_features=4, out_features=64, bias=True)\n",
    "#  (1): Tanh()\n",
    "#  (2): Linear(in_features=64, out_features=2, bias=True)\n",
    "#  (3): Identity()\n",
    "# )"
   ]
  },
  {
   "cell_type": "code",
   "execution_count": 12,
   "metadata": {},
   "outputs": [
    {
     "name": "stderr",
     "output_type": "stream",
     "text": [
      "100%|██████████| 10000/10000 [04:15<00:00, 39.17it/s]"
     ]
    },
    {
     "name": "stdout",
     "output_type": "stream",
     "text": [
      "Saving trained model\n"
     ]
    },
    {
     "name": "stderr",
     "output_type": "stream",
     "text": [
      "\n"
     ]
    }
   ],
   "source": [
    "# Reference :\n",
    "# https://blog.gofynd.com/building-a-deep-q-network-in-pytorch-fa1086aa5435\n",
    "# https://github.com/mahakal001/reinforcement-learning\n",
    "\n",
    "# Main training loop\n",
    "\n",
    "from tqdm import tqdm\n",
    "# tqdm : pip install tqdm\n",
    "# Usefull to show a progress bar\n",
    "# https://tqdm.github.io/\n",
    "\n",
    "losses_list, reward_list, episode_len_list, epsilon_list = [], [], [], []\n",
    "episodes = 10000\n",
    "epsilon = 1\n",
    "\n",
    "# initiliaze experience replay\n",
    "index = 0\n",
    "for i in range(exp_replay_size):\n",
    "    obs = env.reset()\n",
    "    done = False\n",
    "    while not done:\n",
    "        A = agent.get_action(obs, env.action_space.n, epsilon=1)\n",
    "        obs_next, reward, done, _ = env.step(A.item())\n",
    "        agent.collect_experience([obs, A.item(), reward, obs_next])\n",
    "        obs = obs_next\n",
    "        index += 1\n",
    "        if index > exp_replay_size:\n",
    "            break\n",
    "\n",
    "\n",
    "index = 128\n",
    "for i in tqdm(range(episodes)):\n",
    "    obs, done, losses, ep_len, rew = env.reset(), False, 0, 0, 0\n",
    "    while not done:\n",
    "        ep_len += 1\n",
    "        A = agent.get_action(obs, env.action_space.n, epsilon)\n",
    "        obs_next, reward, done, _ = env.step(A.item())\n",
    "        agent.collect_experience([obs, A.item(), reward, obs_next])\n",
    "\n",
    "        obs = obs_next\n",
    "        rew += reward\n",
    "        index += 1\n",
    "\n",
    "        if index > 128:\n",
    "            index = 0\n",
    "            for j in range(4):\n",
    "                loss = agent.train(batch_size=16)\n",
    "                losses += loss\n",
    "    if epsilon > 0.05:\n",
    "        epsilon -= (1 / 5000)\n",
    "\n",
    "    losses_list.append(losses / ep_len), reward_list.append(rew)\n",
    "    episode_len_list.append(ep_len), epsilon_list.append(epsilon)\n",
    "\n",
    "print(\"Saving trained model\")\n",
    "agent.save_trained_model(\"cartpole-dqn.pth\")"
   ]
  },
  {
   "cell_type": "code",
   "execution_count": 17,
   "metadata": {},
   "outputs": [
    {
     "data": {
      "image/png": "[encoded data removed]",
      "text/plain": [
       "<Figure size 432x288 with 1 Axes>"
      ]
     },
     "metadata": {
      "needs_background": "light"
     },
     "output_type": "display_data"
    }
   ],
   "source": [
    "# Plot sum reward per episode after training\n",
    "\n",
    "plt.xlabel('episodes')\n",
    "plt.ylabel('sum reward')\n",
    "\n",
    "t = np.arange(0, episodes, 1)\n",
    "plt.plot(t,reward_list,'ro')\n",
    "plt.show()\n",
    "\n"
   ]
  },
  {
   "cell_type": "code",
   "execution_count": 18,
   "metadata": {},
   "outputs": [
    {
     "data": {
      "image/png": "[encoded data removed]",
      "text/plain": [
       "<Figure size 432x288 with 1 Axes>"
      ]
     },
     "metadata": {
      "needs_background": "light"
     },
     "output_type": "display_data"
    }
   ],
   "source": [
    "# Plot length of episodes after training\n",
    "\n",
    "plt.xlabel('episodes')\n",
    "plt.ylabel('length')\n",
    "\n",
    "t = np.arange(0, episodes, 1)\n",
    "plt.plot(t,episode_len_list,'ro')\n",
    "plt.show()"
   ]
  },
  {
   "cell_type": "code",
   "execution_count": 19,
   "metadata": {},
   "outputs": [
    {
     "data": {
      "image/png": "[encoded data removed]",
      "text/plain": [
       "<Figure size 432x288 with 1 Axes>"
      ]
     },
     "metadata": {
      "needs_background": "light"
     },
     "output_type": "display_data"
    }
   ],
   "source": [
    "# Plot epsilon per episode after training\n",
    "\n",
    "plt.xlabel('episodes')\n",
    "plt.ylabel('epsilon')\n",
    "\n",
    "t = np.arange(0, episodes, 1)\n",
    "plt.plot(t,epsilon_list,'ro')\n",
    "plt.show()"
   ]
  },
  {
   "cell_type": "code",
   "execution_count": 20,
   "metadata": {},
   "outputs": [
    {
     "data": {
      "image/png": "[encoded data removed]",
      "text/plain": [
       "<Figure size 432x288 with 1 Axes>"
      ]
     },
     "metadata": {
      "needs_background": "light"
     },
     "output_type": "display_data"
    }
   ],
   "source": [
    "# Plot loss per episode after training\n",
    "\n",
    "plt.xlabel('episodes')\n",
    "plt.ylabel('loss')\n",
    "\n",
    "t = np.arange(0, episodes, 1)\n",
    "plt.plot(t,losses_list,'ro')\n",
    "plt.show()"
   ]
  },
  {
   "cell_type": "code",
   "execution_count": 23,
   "metadata": {},
   "outputs": [
    {
     "name": "stderr",
     "output_type": "stream",
     "text": [
      "100%|██████████| 100/100 [05:30<00:00,  3.31s/it]"
     ]
    },
    {
     "name": "stdout",
     "output_type": "stream",
     "text": [
      "average reward per episode : 200.0\n"
     ]
    },
    {
     "name": "stderr",
     "output_type": "stream",
     "text": [
      "\n"
     ]
    },
    {
     "data": {
      "image/png": "[encoded data removed]",
      "text/plain": [
       "<Figure size 432x288 with 1 Axes>"
      ]
     },
     "metadata": {
      "needs_background": "light"
     },
     "output_type": "display_data"
    }
   ],
   "source": [
    "# Reference :\n",
    "# https://blog.gofynd.com/building-a-deep-q-network-in-pytorch-fa1086aa5435\n",
    "# https://github.com/mahakal001/reinforcement-learning\n",
    "\n",
    "# Use trained model\n",
    "\n",
    "from time import sleep\n",
    "\n",
    "agent.load_pretrained_model(\"cartpole-dqn.pth\")\n",
    "\n",
    "reward_arr = []\n",
    "for i in tqdm(range(100)):\n",
    "    obs, done, rew = env.reset(), False, 0\n",
    "    while not done:\n",
    "        A = agent.get_action(obs, env.action_space.n, epsilon=0)\n",
    "        obs, reward, done, info = env.step(A.item())\n",
    "        rew += reward\n",
    "        sleep(0.01)\n",
    "        env.render()\n",
    "\n",
    "    reward_arr.append(rew)\n",
    "\n",
    "print(\"average reward per episode :\", sum(reward_arr) / len(reward_arr))\n",
    "\n",
    "plt.xlabel('episodes')\n",
    "plt.ylabel('reward')\n",
    "\n",
    "t = np.arange(0, 100, 1)\n",
    "plt.plot(t,reward_arr,'ro')\n",
    "plt.show()"
   ]
  },
  {
   "cell_type": "code",
   "execution_count": 44,
   "metadata": {},
   "outputs": [
    {
     "name": "stdout",
     "output_type": "stream",
     "text": [
      "network structure : Linear(in_features=2, out_features=4, bias=True)\n",
      "Input [3 lines of 2 elements] : tensor([[109.6583,   0.0000],\n",
      "        [  0.0000,   0.0000],\n",
      "        [  0.0000,   0.0000]])\n",
      "Input size : torch.Size([3, 2])\n",
      "Ouput [3 lines of 4 elements] : tensor([[-45.9299, -28.9092, -58.7221,  34.2017],\n",
      "        [  0.1443,  -0.3174,   0.3886,   0.1911],\n",
      "        [  0.1443,  -0.3174,   0.3886,   0.1911]], grad_fn=<AddmmBackward>)\n",
      "Output size : torch.Size([3, 4])\n",
      "=======================================\n",
      "output * gamma =  tensor([[-45.9299, -28.9092, -58.7221,  34.2017],\n",
      "        [  0.1443,  -0.3174,   0.3886,   0.1911],\n",
      "        [  0.1443,  -0.3174,   0.3886,   0.1911]], grad_fn=<AddmmBackward>)\n"
     ]
    }
   ],
   "source": [
    "# JUST TO REMINDER ABOUT TENSOR BATCH SIZE FORWARD INTO A NET\n",
    "# NECESSARY TO UNDERSTAND TRAINING CODE\n",
    "\n",
    "input_size = 2\n",
    "output_size = 4\n",
    "batch_size = 3\n",
    "\n",
    "net = nn.Linear(input_size, output_size)\n",
    "print(\"network structure : {}\".format(net))\n",
    "\n",
    "input = torch.FloatTensor(batch_size, input_size)\n",
    "print(\"Input [{} lines of {} elements] : {}\".format(batch_size, input_size,input))\n",
    "\n",
    "print(\"Input size :\", input.size())\n",
    "\n",
    "output = net(input) # forward a tensor input as a batch (3) of 8 values to the net\n",
    "\n",
    "print(\"Ouput [{} lines of {} elements] : {}\".format(batch_size, output_size, output))\n",
    "print(\"Output size :\", output.size())\n",
    "\n",
    "print(\"=======================================\")\n",
    "gamma = 0.3\n",
    "target = output * 0.3\n",
    "print(\"output * gamma = \", output)\n"
   ]
  },
  {
   "cell_type": "code",
   "execution_count": null,
   "metadata": {},
   "outputs": [],
   "source": [
    "# JUST TO TEST SOME PART OF TRAIN CODE"
   ]
  },
  {
   "cell_type": "code",
   "execution_count": 45,
   "metadata": {},
   "outputs": [
    {
     "name": "stdout",
     "output_type": "stream",
     "text": [
      "tensor([1])\n"
     ]
    }
   ],
   "source": [
    "obs = env.reset()\n",
    "A = agent.get_action(obs, env.action_space.n, epsilon=1)\n",
    "print(A)"
   ]
  },
  {
   "cell_type": "code",
   "execution_count": 46,
   "metadata": {},
   "outputs": [],
   "source": [
    "# Collect experience into a replay buffer\n",
    "\n",
    "index = 0\n",
    "for i in range(exp_replay_size):\n",
    "    obs = env.reset()\n",
    "    done = False\n",
    "    while not done:\n",
    "        A = agent.get_action(obs, env.action_space.n, epsilon=1)\n",
    "        obs_next, reward, done, _ = env.step(A.item())\n",
    "        agent.collect_experience([obs, A.item(), reward, obs_next])\n",
    "        obs = obs_next\n",
    "        index += 1\n",
    "        if index > exp_replay_size:\n",
    "            break\n",
    "    "
   ]
  },
  {
   "cell_type": "code",
   "execution_count": 47,
   "metadata": {},
   "outputs": [
    {
     "name": "stdout",
     "output_type": "stream",
     "text": [
      "s : tensor([[ 0.0421, -0.0289,  0.0422,  0.0353],\n",
      "        [ 0.0112, -0.0133,  0.0368, -0.0196]])\n",
      "a : tensor([0., 0.])\n",
      "rn : tensor([1., 1.])\n",
      "sn : tensor([[ 0.0415, -0.2246,  0.0429,  0.3410],\n",
      "        [ 0.0109, -0.2089,  0.0364,  0.2845]])\n"
     ]
    }
   ],
   "source": [
    "# Extract a sample (size = 2) from replay buffer (experience)\n",
    "s, a, rn, sn = agent.sample_from_experience(sample_size=2)\n",
    "print(\"s :\",s)\n",
    "print(\"a :\",a)\n",
    "print(\"rn :\",rn)\n",
    "print(\"sn :\",sn)"
   ]
  },
  {
   "cell_type": "code",
   "execution_count": 48,
   "metadata": {},
   "outputs": [
    {
     "name": "stdout",
     "output_type": "stream",
     "text": [
      "qp : tensor([[ 0.1317, -0.1038],\n",
      "        [ 0.1342, -0.1361]], device='cuda:0', grad_fn=<AddmmBackward>)\n"
     ]
    }
   ],
   "source": [
    "qp = agent.q_net(s.cuda()) # forward the tensor s to the net\n",
    "# the net has an input of 4 values, and the tensor s has a batch (2) of 4 values\n",
    "# so the forward is batched, and we obtain in output (normally 2 values) a tensor with \n",
    "# a batch (2) of 2 values.\n",
    "print(\"qp :\", qp)"
   ]
  },
  {
   "cell_type": "code",
   "execution_count": 49,
   "metadata": {},
   "outputs": [
    {
     "name": "stdout",
     "output_type": "stream",
     "text": [
      "val : tensor([0.1317, 0.1342], device='cuda:0', grad_fn=<MaxBackward0>)\n",
      "index : tensor([0, 0], device='cuda:0')\n"
     ]
    }
   ],
   "source": [
    "val, index = torch.max(qp, axis=1) # max of qp for each lines (axis=1)\n",
    "print(\"val :\", val) # get max of each batch\n",
    "print(\"index :\", index)"
   ]
  },
  {
   "cell_type": "code",
   "execution_count": 51,
   "metadata": {},
   "outputs": [
    {
     "name": "stdout",
     "output_type": "stream",
     "text": [
      "val : tensor([ 0.1342, -0.1038], device='cuda:0', grad_fn=<MaxBackward0>)\n",
      "index : tensor([1, 0], device='cuda:0')\n"
     ]
    }
   ],
   "source": [
    "val, index = torch.max(qp, axis=0) # max of qp for each columns (axis=0)\n",
    "print(\"val :\", val)\n",
    "print(\"index :\", index)"
   ]
  },
  {
   "cell_type": "code",
   "execution_count": 52,
   "metadata": {},
   "outputs": [
    {
     "name": "stdout",
     "output_type": "stream",
     "text": [
      "qp : tensor([[0.1405, 0.0666],\n",
      "        [0.1437, 0.0339]], device='cuda:0', grad_fn=<AddmmBackward>)\n"
     ]
    }
   ],
   "source": [
    "# sn (state/obs next) is a tensor with a batch (2) of 4 values\n",
    "qp = agent.target_net(sn.cuda()) # qp is a tensor with a batch (2) of 2 values (QValues)\n",
    "print(\"qp :\", qp)"
   ]
  },
  {
   "cell_type": "code",
   "execution_count": 53,
   "metadata": {},
   "outputs": [
    {
     "name": "stdout",
     "output_type": "stream",
     "text": [
      "val : tensor([0.1405, 0.1437], device='cuda:0', grad_fn=<MaxBackward0>)\n",
      "index : tensor([0, 0], device='cuda:0')\n"
     ]
    }
   ],
   "source": [
    "q_next, q_next_index = torch.max(qp, axis=1) # Get max Qvalue of each batch\n",
    "# q_next is a tensor batch (2) of 1 value \n",
    "print(\"val :\", q_next)\n",
    "print(\"index :\", q_next_index)"
   ]
  },
  {
   "cell_type": "code",
   "execution_count": 54,
   "metadata": {},
   "outputs": [
    {
     "name": "stdout",
     "output_type": "stream",
     "text": [
      "target_return : tensor([1.1335, 1.1365], device='cuda:0', grad_fn=<AddBackward0>)\n"
     ]
    }
   ],
   "source": [
    "# rn (reward) is a tensor batch (2) of 1 value, q_next is a tensor batch (2) of 1 value\n",
    "# so target_return is also a tensor batch (2) of 1 value\n",
    "target_return = rn.cuda() + agent.gamma * q_next\n",
    "print(\"target_return :\", target_return)"
   ]
  },
  {
   "cell_type": "code",
   "execution_count": null,
   "metadata": {},
   "outputs": [],
   "source": []
  }
 ],
 "metadata": {
  "kernelspec": {
   "display_name": "ve_pytorch",
   "language": "python",
   "name": "ve_pytorch"
  },
  "language_info": {
   "codemirror_mode": {
    "name": "ipython",
    "version": 3
   },
   "file_extension": ".py",
   "mimetype": "text/x-python",
   "name": "python",
   "nbconvert_exporter": "python",
   "pygments_lexer": "ipython3",
   "version": "3.5.2"
  }
 },
 "nbformat": 4,
 "nbformat_minor": 4
}
