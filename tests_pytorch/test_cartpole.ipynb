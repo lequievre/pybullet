{
 "cells": [
  {
   "cell_type": "code",
   "execution_count": 11,
   "metadata": {},
   "outputs": [],
   "source": [
    "# Laurent LEQUIEVRE\n",
    "# Research Engineer, CNRS (France)\n",
    "# Institut Pascal UMR6602\n",
    "# laurent.lequievre@uca.fr"
   ]
  },
  {
   "cell_type": "markdown",
   "metadata": {},
   "source": [
    "# CartPole"
   ]
  },
  {
   "cell_type": "markdown",
   "metadata": {},
   "source": [
    "<img src=\"cartpole.png\">"
   ]
  },
  {
   "cell_type": "markdown",
   "metadata": {},
   "source": [
    "https://github.com/openai/gym/blob/master/gym/envs/classic_control/cartpole.py\n",
    "    \n",
    "# Description:\n",
    "A pole is attached by an un-actuated joint to a cart, which moves along a frictionless track. The pendulum starts upright, and the goal is to\n",
    "prevent it from falling over by increasing and reducing the cart's velocity.\n",
    "# Source:\n",
    "    This environment corresponds to the version of the cart-pole problem described by Barto, Sutton, and Anderson\n",
    "# Observation:\n",
    "    Type: Box(4)\n",
    "    Num     Observation               Min                     Max\n",
    "    0       Cart Position             -4.8                    4.8\n",
    "    1       Cart Velocity             -Inf                    Inf\n",
    "    2       Pole Angle                -0.418 rad (-24 deg)    0.418 rad (24 deg)\n",
    "    3       Pole Angular Velocity     -Inf                    Inf\n",
    "# Actions:\n",
    "    Type: Discrete(2)\n",
    "    Num   Action\n",
    "    0     Push cart to the left\n",
    "    1     Push cart to the right\n",
    "    Note: The amount the velocity that is reduced or increased is not fixed; it depends on the angle the pole is pointing. This is because the center of gravity of the pole increases the amount of energy needed to move the cart underneath it\n",
    "# Reward:\n",
    "    Reward is 1 for every step taken, including the termination step\n",
    "# Starting State:\n",
    "    All observations are assigned a uniform random value in [-0.05..0.05]\n",
    "# Episode Termination:\n",
    "    - Pole Angle is more than 12 degrees.\n",
    "    - Cart Position is more than 2.4 (center of the cart reaches the edge of the display).\n",
    "    - Episode length is greater than 200.\n",
    "    Solved Requirements:\n",
    "    Considered solved when the average return is greater than or equal to\n",
    "    195.0 over 100 consecutive trials."
   ]
  },
  {
   "cell_type": "code",
   "execution_count": 17,
   "metadata": {},
   "outputs": [],
   "source": [
    "import gym"
   ]
  },
  {
   "cell_type": "code",
   "execution_count": 18,
   "metadata": {},
   "outputs": [],
   "source": [
    "env = gym.make('CartPole-v0')  # CartPole-v0 only runs for 200 steps. CartPole-v1 runs for 500 steps."
   ]
  },
  {
   "cell_type": "markdown",
   "metadata": {},
   "source": [
    "<img src=\"gym_openai.png\">"
   ]
  },
  {
   "cell_type": "markdown",
   "metadata": {},
   "source": [
    "# Environment comes with an action_space and an observation_space :\n",
    "\n",
    "These attributes are of type Space, and they describe the format of valid actions and observations.\n",
    "\n",
    "The 'Discrete' space allows a fixed range of non-negative numbers.\n",
    "- Discrete(2) -> in this case valid actions are either 0 or 1.\n",
    "- Discrete(8) -> Set with 8 elements {0, 1, 2, ..., 7}\n",
    "\n",
    "The 'Box' space represents an n-dimensional box.\n",
    "- Box(4,) -> valid observations will be an array of 4 numbers (in that example, there is only one dimension)."
   ]
  },
  {
   "cell_type": "code",
   "execution_count": 19,
   "metadata": {},
   "outputs": [
    {
     "name": "stdout",
     "output_type": "stream",
     "text": [
      "action space = Discrete(2)\n",
      "nb actions = 2\n",
      "a sample of action = 0\n",
      "a sample of action = 0\n",
      "a sample of action = 1\n",
      "observation space = Box(-3.4028234663852886e+38, 3.4028234663852886e+38, (4,), float32)\n",
      "observation space shape = (4,)\n",
      "observation high = [4.8000002e+00 3.4028235e+38 4.1887903e-01 3.4028235e+38]\n",
      "observation low = [-4.8000002e+00 -3.4028235e+38 -4.1887903e-01 -3.4028235e+38]\n",
      "x cart pos high = 4.800000190734863\n",
      "x cart pos low = -4.800000190734863\n",
      "x cart velocity high = 3.4028234663852886e+38\n",
      "x cart velocity low = -3.4028234663852886e+38\n",
      "Angular pole pos high = 0.41887903213500977\n",
      "Angular pole pos low = -0.41887903213500977\n",
      "Angular pole velocity high = 3.4028234663852886e+38\n",
      "Angular pole velocity low = -3.4028234663852886e+38\n"
     ]
    }
   ],
   "source": [
    "# About action and observation space\n",
    "\n",
    "# action_space\n",
    "print(\"action space = {}\".format(env.action_space)) # Discrete(2)\n",
    "print(\"nb actions = {}\".format(env.action_space.n)) # 2\n",
    "# 0 Push cart to the left\n",
    "# 1 Push cart to the right\n",
    "\n",
    "for _ in range(3):\n",
    "    # Randomly sample an element of this space => random(2) (just to test)\n",
    "    print(\"a sample of action = {}\".format(env.action_space.sample()))\n",
    "    \n",
    "# observation_space\n",
    "# observation = x position of cart, x velocity of cart, angular position of pole, angular velocity of pole\n",
    "print(\"observation space = {}\".format(env.observation_space))\n",
    "print(\"observation space shape = {}\".format(env.observation_space.shape)) # (4,)\n",
    "\n",
    "# We can also check the observation Box’s bounds\n",
    "print(\"observation high = {}\".format(env.observation_space.high))\n",
    "print(\"observation low = {}\".format(env.observation_space.low))\n",
    "\n",
    "# Observation limits in details\n",
    "print(\"x cart pos high = {}\".format(env.observation_space.high[0])) # 4.8\n",
    "print(\"x cart pos low = {}\".format(env.observation_space.low[0])) # -4.8\n",
    "\n",
    "print(\"x cart velocity high = {}\".format(env.observation_space.high[1])) # Inf\n",
    "print(\"x cart velocity low = {}\".format(env.observation_space.low[1])) # -Inf\n",
    "\n",
    "print(\"Angular pole pos high = {}\".format(env.observation_space.high[2])) # 0.418 rad (~ 24 deg)\n",
    "print(\"Angular pole pos low = {}\".format(env.observation_space.low[2])) # -0.418 rad (~ -24 deg)\n",
    "\n",
    "print(\"Angular pole velocity high = {}\".format(env.observation_space.high[3])) # Inf\n",
    "print(\"Angular pole velocity low = {}\".format(env.observation_space.low[3])) # -Inf\n"
   ]
  },
  {
   "cell_type": "markdown",
   "metadata": {},
   "source": [
    "# The 'step' function returns four values :\n",
    "\n",
    "- observation (object): \n",
    "an environment-specific object representing your observation of the environment. \n",
    "For example, pixel data from a camera, joint angles and joint velocities of a robot, or the board state in a board game.\n",
    "\n",
    "- reward (float): \n",
    "amount of reward achieved by the previous action. \n",
    "The scale varies between environments, but the goal is always to increase your total reward.\n",
    "\n",
    "- done (boolean): \n",
    "whether it’s time to reset the environment again. \n",
    "Most (but not all) tasks are divided up into well-defined episodes, and done being True indicates the episode has terminated. \n",
    "(For example, perhaps the pole tipped too far, or you lost your last life.)\n",
    "\n",
    "- info (dict): \n",
    "diagnostic information useful for debugging. \n",
    "It can sometimes be useful for learning (for example, it might contain the raw probabilities behind the environment’s last state change). \n",
    "However, official evaluations of your agent are not allowed to use this for learning.\n",
    "\n",
    "\n",
    "Example for CartPole : array([-0.00842369, -0.17244261, -0.0034994 ,  0.24360119]), 1.0, False, {}\n",
    "    \n",
    "    observation = array([x position of cart, x velocity of cart, angular position of pole, angular velocity of pole])\n",
    "    reward = 1.0\n",
    "    done = False\n",
    "    info = {}\n",
    "    \n",
    "# The 'reset' function returns :\n",
    "\n",
    "- observation (object): \n",
    "an environment-specific object representing your observation of the environment. \n",
    "For example, pixel data from a camera, joint angles and joint velocities of a robot, or the board state in a board game.\n",
    "\n",
    "\n",
    "# About 'done' :\n",
    "\n",
    "- The environment will return done=True if either 200 timesteps have elapsed (episode success) \n",
    "or if the pole has fallen over (angular position of the pole has reached +- 12 degrees) \n",
    "or the cart has left the simulation space (cart position has reached +- 2.4), in which case the episode failed."
   ]
  },
  {
   "cell_type": "code",
   "execution_count": 21,
   "metadata": {},
   "outputs": [
    {
     "name": "stdout",
     "output_type": "stream",
     "text": [
      "initial observation = [-0.01988554  0.02129117  0.03425103 -0.01337742]\n"
     ]
    },
    {
     "data": {
      "image/png": "[encoded data removed]",
      "text/plain": [
       "<Figure size 432x288 with 1 Axes>"
      ]
     },
     "metadata": {
      "needs_background": "light"
     },
     "output_type": "display_data"
    },
    {
     "name": "stdout",
     "output_type": "stream",
     "text": [
      "Average reward per episode : 20.95\n"
     ]
    }
   ],
   "source": [
    "# Example 1 :\n",
    "# Selecting actions randomly\n",
    "# Calulating reward per episode\n",
    "\n",
    "from torch import randint\n",
    "import matplotlib.pyplot as plt\n",
    "import numpy as np\n",
    "\n",
    "# Just to test initial observation\n",
    "initial_obs = env.reset() # reset environment\n",
    "print(\"initial observation = {}\".format(initial_obs))\n",
    "\n",
    "reward_array = []\n",
    "episode_count = 100\n",
    "\n",
    "plt.xlabel('episodes')\n",
    "plt.ylabel('sum reward')\n",
    "\n",
    "for i in range(episode_count):\n",
    "    # obs = reset initial obs, done = False, sum_reward per episode = 0\n",
    "    obs, done, sum_reward = env.reset(), False, 0\n",
    "    \n",
    "    while (done != True) :\n",
    "        # Tensor A size : torch.Size([1])\n",
    "        A =  randint(0,env.action_space.n,(1,))  # get a random action from 0 (inclusive) to 2 (exclusive)\n",
    "        \n",
    "        #env.render() # will open a GUI window and show you the cartpole.\n",
    "        \n",
    "        obs, reward, done, info = env.step(A.item()) # apply the random action to the environment\n",
    "        sum_reward += reward\n",
    "        \n",
    "    reward_array.append(sum_reward) # add sum_reward to reward array\n",
    "    \n",
    "env.close() # close environment\n",
    "\n",
    "t = np.arange(0, episode_count, 1)\n",
    "plt.plot(t,reward_array,'ro') # plot with pyplot function the reward array\n",
    "plt.show()\n",
    "\n",
    "print(\"Average reward per episode :\",sum(reward_array)/ len(reward_array))"
   ]
  },
  {
   "cell_type": "code",
   "execution_count": 16,
   "metadata": {},
   "outputs": [],
   "source": [
    "# The Solution that take a random action is very bad.\n",
    "# In that case, there is 100 episodes and each episode has a 21 as cumulated reward.\n",
    "# (Reward is 1 for every step taken, including the termination step)\n",
    "# The environment will return done=True if either 200 timesteps have elapsed (episode success)\n",
    "# or if the pole has fallen over (angular position of the pole has reached +- 12 degrees) \n",
    "# or the cart has left the simulation space (cart position has reached +- 2.4), in which case the episode failed.\n",
    "\n",
    "# The objective now is to define a policy which allows us to receive 200 rewards per episode.\n",
    "# By using reinforcement learning techniques such as the DQN algorithm.\n"
   ]
  },
  {
   "cell_type": "code",
   "execution_count": null,
   "metadata": {},
   "outputs": [],
   "source": []
  }
 ],
 "metadata": {
  "kernelspec": {
   "display_name": "ve_pytorch",
   "language": "python",
   "name": "ve_pytorch"
  },
  "language_info": {
   "codemirror_mode": {
    "name": "ipython",
    "version": 3
   },
   "file_extension": ".py",
   "mimetype": "text/x-python",
   "name": "python",
   "nbconvert_exporter": "python",
   "pygments_lexer": "ipython3",
   "version": "3.5.2"
  }
 },
 "nbformat": 4,
 "nbformat_minor": 4
}
