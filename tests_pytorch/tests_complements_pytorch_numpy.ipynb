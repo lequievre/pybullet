{
 "cells": [
  {
   "cell_type": "code",
   "execution_count": 96,
   "metadata": {},
   "outputs": [],
   "source": [
    "# Laurent LEQUIEVRE\n",
    "# Research Engineer, CNRS (France)\n",
    "# Institut Pascal UMR6602\n",
    "# laurent.lequievre@uca.fr"
   ]
  },
  {
   "cell_type": "code",
   "execution_count": 97,
   "metadata": {},
   "outputs": [],
   "source": [
    "import torch"
   ]
  },
  {
   "cell_type": "code",
   "execution_count": 98,
   "metadata": {},
   "outputs": [],
   "source": [
    "# Writing Math equation in Jupyter Notebook\n",
    "# https://medium.com/analytics-vidhya/writing-math-equations-in-jupyter-notebook-a-naive-introduction-a5ce87b9a214"
   ]
  },
  {
   "cell_type": "markdown",
   "metadata": {},
   "source": [
    "a=2.0<br>\n",
    "b=3.0<br>\n",
    "c=a * b<br>\n",
    "$\\partial{c} / \\partial{a} = 3.0$<br>\n",
    "$\\partial{c} / \\partial{b} = 2.0$"
   ]
  },
  {
   "cell_type": "code",
   "execution_count": 99,
   "metadata": {},
   "outputs": [
    {
     "name": "stdout",
     "output_type": "stream",
     "text": [
      "c = 6.0\n",
      "a gradient = 3.0, b gradient = 2.0\n"
     ]
    }
   ],
   "source": [
    "# JUST TO REMIND\n",
    "\n",
    "a = torch.tensor(2.0, requires_grad=True)\n",
    "b = torch.tensor(3.0, requires_grad=True)\n",
    "\n",
    "c = a * b\n",
    "print(\"c = {}\".format(c))\n",
    "\n",
    "c.backward() # computes gradient for a and b (which has requires_grad=True)\n",
    "\n",
    "print(\"a gradient = {}, b gradient = {}\".format(a.grad, b.grad))\n"
   ]
  },
  {
   "cell_type": "code",
   "execution_count": 100,
   "metadata": {},
   "outputs": [
    {
     "name": "stdout",
     "output_type": "stream",
     "text": [
      "requires_grad of x = True\n",
      "requires_grad of x ** 2 = True\n",
      "requires_grad of x ** 2 = False\n",
      "requires_grad of x ** 2 = True\n"
     ]
    }
   ],
   "source": [
    "# The wrapper \"with torch.no_grad()\" temporarily set all the requires_grad flag to false inside its context\n",
    "# CLASS torch.no_grad -> Context-manager that disabled gradient calculation.\n",
    "\n",
    "x = torch.randn(3, requires_grad=True)\n",
    "print(\"requires_grad of x = {}\".format(x.requires_grad)) # True\n",
    "print(\"requires_grad of x ** 2 = {}\".format((x ** 2).requires_grad)) # True\n",
    "\n",
    "# the \"required_grad\" flag of x is temporarily removed\n",
    "# Only in the context of with !\n",
    "with torch.no_grad():\n",
    "    print(\"requires_grad of x ** 2 = {}\".format((x ** 2).requires_grad)) \n",
    "    \n",
    "    \n",
    "# Disabling gradient calculation is useful for inference, when you are sure that you will not call Tensor.backward(). \n",
    "# It will reduce memory consumption for computations that would otherwise have requires_grad=True.\n",
    "# In this mode, the result of every computation will have requires_grad=False, even when the inputs have requires_grad=True.\n",
    "   \n",
    "print(\"requires_grad of x ** 2 = {}\".format((x ** 2).requires_grad)) # outside of \"with context\" -> True"
   ]
  },
  {
   "cell_type": "code",
   "execution_count": 101,
   "metadata": {},
   "outputs": [
    {
     "name": "stdout",
     "output_type": "stream",
     "text": [
      "requires_grad of x = True\n",
      "requires_grad of x ** 2 = False\n",
      "requires_grad of x = True\n",
      "requires_grad of x ** 2 = True\n"
     ]
    }
   ],
   "source": [
    "# The same by using a global function : torch.set_grad_enabled\n",
    "\n",
    "torch.set_grad_enabled(False)\n",
    "\n",
    "x = torch.randn(3, requires_grad=True)\n",
    "print(\"requires_grad of x = {}\".format(x.requires_grad)) # True\n",
    "print(\"requires_grad of x ** 2 = {}\".format((x ** 2).requires_grad)) # False\n",
    "\n",
    "torch.set_grad_enabled(True)\n",
    "\n",
    "print(\"requires_grad of x = {}\".format(x.requires_grad)) # True\n",
    "print(\"requires_grad of x ** 2 = {}\".format((x ** 2).requires_grad)) # True\n"
   ]
  },
  {
   "cell_type": "code",
   "execution_count": 102,
   "metadata": {},
   "outputs": [
    {
     "name": "stdout",
     "output_type": "stream",
     "text": [
      "tensor([[ 0.0951,  0.4758, -0.4451],\n",
      "        [ 0.8208, -1.1656,  1.2149]])\n",
      "tensor(1.2149)\n",
      "1.2149074077606201\n"
     ]
    }
   ],
   "source": [
    "# torch.max\n",
    "# The default behavior is to return a single element and an index, corresponding to the global maximum element.\n",
    "\n",
    "p = torch.randn([2, 3])\n",
    "print(p)\n",
    "\n",
    "max_element = torch.max(p)\n",
    "print(max_element)\n",
    "\n",
    "# use item() function to get the scalar value (the tensor holds a single value)\n",
    "print(max_element.item())"
   ]
  },
  {
   "cell_type": "code",
   "execution_count": 103,
   "metadata": {},
   "outputs": [
    {
     "name": "stdout",
     "output_type": "stream",
     "text": [
      "tensor([[-1.4571, -0.0718, -0.2187],\n",
      "        [ 0.1641, -1.1333,  1.5883]])\n",
      "by column max elem = tensor([ 0.1641, -0.0718,  1.5883]), size = torch.Size([3])\n",
      "by column index of max elem = tensor([1, 0, 1])\n",
      "-----------------------------------------\n",
      "by row max elem = tensor([-0.0718,  1.5883]), size = torch.Size([2])\n",
      "by row index of max elem = tensor([1, 2])\n"
     ]
    }
   ],
   "source": [
    "### Use torch.max() along a dimension\n",
    "# This returns a tuple, max_elements and max_indices.\n",
    "\n",
    "# max_elements, max_indices = torch.max(input_tensor, dim)\n",
    "# max_elements -> All the maximum elements of the Tensor.\n",
    "# max_indices -> Indices corresponding to the maximum elements.\n",
    "\n",
    "p = torch.randn([2, 3])\n",
    "print(p)\n",
    " \n",
    "# Get the maximum along dim = 0 (axis = 0) - Column\n",
    "max_elements, max_idxs = torch.max(p, dim=0)\n",
    "print(\"by column max elem = {}, size = {}\".format(max_elements, max_elements.size()))\n",
    "print(\"by column index of max elem = {}\".format(max_idxs))\n",
    "\n",
    "print(\"-----------------------------------------\")\n",
    "\n",
    "# Get the maximum along dim = 1 (axis = 1) - row\n",
    "max_elements, max_idxs = torch.max(p, dim=1)\n",
    "print(\"by row max elem = {}, size = {}\".format(max_elements, max_elements.size()))\n",
    "print(\"by row index of max elem = {}\".format(max_idxs))"
   ]
  },
  {
   "cell_type": "code",
   "execution_count": 104,
   "metadata": {},
   "outputs": [
    {
     "name": "stdout",
     "output_type": "stream",
     "text": [
      "tensor([0.8303, 0.1261])\n"
     ]
    }
   ],
   "source": [
    "# torch.manual_seed()\n",
    "# It will set the seed of the random number generator to a fixed value, \n",
    "# the results will be reproducible.\n",
    "\n",
    "# Execute that code multiple times and you will get the same value\n",
    "torch.manual_seed(5)\n",
    "print(torch.rand(2))\n"
   ]
  },
  {
   "cell_type": "code",
   "execution_count": 105,
   "metadata": {},
   "outputs": [
    {
     "name": "stdout",
     "output_type": "stream",
     "text": [
      "p = tensor([[-0.0580,  0.9444, -0.3130],\n",
      "        [ 0.7217,  0.7830, -1.0576]])\n",
      "outpout = tensor([[-0.0580,  0.9444, -0.3130],\n",
      "        [ 0.7217,  0.7830, -1.0576]])\n"
     ]
    }
   ],
   "source": [
    "# nn.Identity() is a module that forwards the input as such.\n",
    "\n",
    "import torch\n",
    "import torch.nn as nn\n",
    "\n",
    "net = nn.Identity()\n",
    "p = torch.randn([2, 3])\n",
    "\n",
    "print(\"p =\",p)\n",
    "\n",
    "output = net.forward(p)\n",
    "\n",
    "print(\"outpout =\",output)"
   ]
  },
  {
   "cell_type": "code",
   "execution_count": 12,
   "metadata": {},
   "outputs": [
    {
     "name": "stdout",
     "output_type": "stream",
     "text": [
      "[[ 1  2  3  4]\n",
      " [ 5  6  7  8]\n",
      " [ 9 10 11 12]]\n",
      "(3, 4)\n",
      "----------------------------------------------\n",
      "[[ 1  2  3]\n",
      " [ 4  5  6]\n",
      " [ 7  8  9]\n",
      " [10 11 12]]\n",
      "----------------------------------------------\n",
      "[ 1  2  3  4  5  6  7  8  9 10 11 12]\n",
      "----------------------------------------------\n",
      "[[ 1]\n",
      " [ 2]\n",
      " [ 3]\n",
      " [ 4]\n",
      " [ 5]\n",
      " [ 6]\n",
      " [ 7]\n",
      " [ 8]\n",
      " [ 9]\n",
      " [10]\n",
      " [11]\n",
      " [12]]\n",
      "----------------------------------------------\n",
      "[[ 1  2  3]\n",
      " [ 4  5  6]\n",
      " [ 7  8  9]\n",
      " [10 11 12]]\n",
      "----------------------------------------------\n",
      "[[ 1  2  3  4  5  6]\n",
      " [ 7  8  9 10 11 12]]\n"
     ]
    }
   ],
   "source": [
    "# numpy reshape\n",
    "\n",
    "import numpy as np\n",
    "\n",
    "# z is an array (matrix) of 3 lines and 4 columns = 12 elements\n",
    "z = np.array([[1, 2, 3, 4],\n",
    "         [5, 6, 7, 8],\n",
    "         [9, 10, 11, 12]])\n",
    "print(z)\n",
    "print(z.shape) # print shape of z = (3, 4), 3 lines and 4 columns\n",
    "\n",
    "print(\"----------------------------------------------\")\n",
    "\n",
    "# reshape (change matrix dimension) to 4 lines and 3 columns\n",
    "# of course the new shape have to be compatible with the original shape !\n",
    "u = z.reshape(4, 3)\n",
    "print(u)\n",
    "\n",
    "print(\"----------------------------------------------\")\n",
    "\n",
    "# reshape with -1 : it is an unknown dimension and we want numpy to figure it out.\n",
    "v = z.reshape(-1)\n",
    "print(v)\n",
    "\n",
    "print(\"----------------------------------------------\")\n",
    "\n",
    "# reshape(-1, 1) : row dimension is unknown, column is 1\n",
    "w = z.reshape(-1, 1)\n",
    "print(w)\n",
    "\n",
    "print(\"----------------------------------------------\")\n",
    "\n",
    "# reshape(-1, 3) : row dimension is unknown, column is 3\n",
    "x = z.reshape(-1, 3)\n",
    "print(x)\n",
    "\n",
    "print(\"----------------------------------------------\")\n",
    "\n",
    "# reshape(2, -1) : row is 2, column dimension is unknown\n",
    "y = z.reshape(2, -1)\n",
    "print(y)\n"
   ]
  },
  {
   "cell_type": "code",
   "execution_count": null,
   "metadata": {},
   "outputs": [],
   "source": []
  }
 ],
 "metadata": {
  "kernelspec": {
   "display_name": "ve_pytorch",
   "language": "python",
   "name": "ve_pytorch"
  },
  "language_info": {
   "codemirror_mode": {
    "name": "ipython",
    "version": 3
   },
   "file_extension": ".py",
   "mimetype": "text/x-python",
   "name": "python",
   "nbconvert_exporter": "python",
   "pygments_lexer": "ipython3",
   "version": "3.5.2"
  }
 },
 "nbformat": 4,
 "nbformat_minor": 4
}
