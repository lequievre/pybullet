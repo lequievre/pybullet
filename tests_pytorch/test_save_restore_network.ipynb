{
 "cells": [
  {
   "cell_type": "code",
   "execution_count": null,
   "metadata": {},
   "outputs": [],
   "source": [
    "# Laurent LEQUIEVRE\n",
    "# Research Engineer, CNRS (France)\n",
    "# Institut Pascal UMR6602\n",
    "# laurent.lequievre@uca.fr"
   ]
  },
  {
   "cell_type": "code",
   "execution_count": 13,
   "metadata": {},
   "outputs": [],
   "source": [
    "import torch\n",
    "import torch.nn as nn\n",
    "import torch.optim as optim"
   ]
  },
  {
   "cell_type": "code",
   "execution_count": 14,
   "metadata": {},
   "outputs": [
    {
     "data": {
      "text/plain": [
       "<torch._C.Generator at 0x7f3b94032210>"
      ]
     },
     "execution_count": 14,
     "metadata": {},
     "output_type": "execute_result"
    }
   ],
   "source": [
    "torch.manual_seed(1) # sets the random seed from pytorch random number generators."
   ]
  },
  {
   "cell_type": "code",
   "execution_count": 22,
   "metadata": {},
   "outputs": [
    {
     "name": "stdout",
     "output_type": "stream",
     "text": [
      "inter =tensor([-1.0000, -0.7778, -0.5556, -0.3333, -0.1111,  0.1111,  0.3333,  0.5556,\n",
      "         0.7778,  1.0000])\n",
      "x =tensor([[-1.0000],\n",
      "        [-0.7778],\n",
      "        [-0.5556],\n",
      "        [-0.3333],\n",
      "        [-0.1111],\n",
      "        [ 0.1111],\n",
      "        [ 0.3333],\n",
      "        [ 0.5556],\n",
      "        [ 0.7778],\n",
      "        [ 1.0000]])\n"
     ]
    }
   ],
   "source": [
    "inter = torch.linspace(-1, 1, 10)  # create a tensor of 10 elements between -1 to 1. torch.Size([10])\n",
    "print(\"inter ={}\".format(inter))\n",
    "x = torch.unsqueeze(inter, dim=1)  # Returns a new tensor with a dimension of size one inserted at the specified position (dim=1).\n",
    "                                   # Create a batchsize 10 of 1 element\n",
    "                                   # torch.Size([10, 1])\n",
    "print(\"x ={}\".format(x))\n",
    "x.requires_grad=False # Remove gradient\n",
    "\n",
    "y = x.pow(2) + 0.2*torch.rand(x.size())  # noisy y data (tensor), shape=(10, 1)\n",
    "y.requires_grad=False # No gradient\n"
   ]
  },
  {
   "cell_type": "code",
   "execution_count": 23,
   "metadata": {},
   "outputs": [],
   "source": [
    "# create a simple network\n",
    "net = nn.Sequential(\n",
    "        nn.Linear(1, 10),\n",
    "        nn.ReLU(),\n",
    "        nn.Linear(10, 1)\n",
    "    )\n",
    "# use SGD as optimizer (Stochastic Gradient Descent)\n",
    "optimizer = torch.optim.SGD(net.parameters(), lr=0.1)\n",
    "\n",
    "# use MSE as loss function (Mean Square Error)\n",
    "loss_func = torch.nn.MSELoss()"
   ]
  },
  {
   "cell_type": "code",
   "execution_count": 24,
   "metadata": {},
   "outputs": [
    {
     "name": "stdout",
     "output_type": "stream",
     "text": [
      "loss = 0.5546197891235352\n",
      "loss = 0.23355528712272644\n",
      "loss = 0.1428460329771042\n",
      "loss = 0.11599431186914444\n",
      "loss = 0.10642758756875992\n",
      "loss = 0.1016184464097023\n",
      "loss = 0.09831953048706055\n",
      "loss = 0.0956566259264946\n",
      "loss = 0.09335227310657501\n",
      "loss = 0.09128843247890472\n",
      "loss = 0.08939919620752335\n",
      "loss = 0.08756937086582184\n",
      "loss = 0.08583521842956543\n",
      "loss = 0.08417464792728424\n",
      "loss = 0.08257012814283371\n",
      "loss = 0.08100872486829758\n",
      "loss = 0.07948087155818939\n",
      "loss = 0.07797951251268387\n",
      "loss = 0.07649938762187958\n",
      "loss = 0.0750366598367691\n",
      "loss = 0.07358848303556442\n",
      "loss = 0.0721527487039566\n",
      "loss = 0.07072803378105164\n",
      "loss = 0.06931325048208237\n",
      "loss = 0.06790764629840851\n",
      "loss = 0.06651078164577484\n",
      "loss = 0.06512517482042313\n",
      "loss = 0.06375463306903839\n",
      "loss = 0.06239237263798714\n",
      "loss = 0.0610383078455925\n",
      "loss = 0.05969226360321045\n",
      "loss = 0.05835383012890816\n",
      "loss = 0.05702415853738785\n",
      "loss = 0.05570355802774429\n",
      "loss = 0.05439236760139465\n",
      "loss = 0.053090982139110565\n",
      "loss = 0.05179982632398605\n",
      "loss = 0.05051937699317932\n",
      "loss = 0.049296386539936066\n",
      "loss = 0.04816941171884537\n",
      "loss = 0.04705379903316498\n",
      "loss = 0.045949436724185944\n",
      "loss = 0.0448564812541008\n",
      "loss = 0.04377667233347893\n",
      "loss = 0.04275200515985489\n",
      "loss = 0.04173941910266876\n",
      "loss = 0.040739141404628754\n",
      "loss = 0.03975139558315277\n",
      "loss = 0.038776446133852005\n",
      "loss = 0.03781454637646675\n",
      "loss = 0.0368659570813179\n",
      "loss = 0.03593092039227486\n",
      "loss = 0.03500969335436821\n",
      "loss = 0.03410249575972557\n",
      "loss = 0.033209558576345444\n",
      "loss = 0.032331109046936035\n",
      "loss = 0.031467337161302567\n",
      "loss = 0.030618447810411453\n",
      "loss = 0.029784614220261574\n",
      "loss = 0.028966009616851807\n",
      "loss = 0.028162792325019836\n",
      "loss = 0.027375077828764915\n",
      "loss = 0.026603031903505325\n",
      "loss = 0.025846730917692184\n",
      "loss = 0.025107169523835182\n",
      "loss = 0.02448328025639057\n",
      "loss = 0.02387322671711445\n",
      "loss = 0.02327648364007473\n",
      "loss = 0.02269289828836918\n",
      "loss = 0.022122373804450035\n",
      "loss = 0.021564822643995285\n",
      "loss = 0.021020179614424706\n",
      "loss = 0.020488357171416283\n",
      "loss = 0.019969260320067406\n",
      "loss = 0.01946279965341091\n",
      "loss = 0.0189688540995121\n",
      "loss = 0.018487324938178062\n",
      "loss = 0.01801806315779686\n",
      "loss = 0.01756097748875618\n",
      "loss = 0.017115898430347443\n",
      "loss = 0.016682688146829605\n",
      "loss = 0.016261199489235878\n",
      "loss = 0.015851270407438278\n",
      "loss = 0.015452733263373375\n",
      "loss = 0.015065429732203484\n",
      "loss = 0.014689174480736256\n",
      "loss = 0.01432378776371479\n",
      "loss = 0.013969093561172485\n",
      "loss = 0.013624886982142925\n",
      "loss = 0.01329099666327238\n",
      "loss = 0.012967213988304138\n",
      "loss = 0.01265333779156208\n",
      "loss = 0.012349171563982964\n",
      "loss = 0.012054511345922947\n",
      "loss = 0.011769157834351063\n",
      "loss = 0.011492898687720299\n",
      "loss = 0.01122552901506424\n",
      "loss = 0.010966838337481022\n",
      "loss = 0.010716617107391357\n",
      "loss = 0.010474668815732002\n"
     ]
    }
   ],
   "source": [
    "# Run training\n",
    "for t in range(100):\n",
    "        prediction = net(x)\n",
    "        loss = loss_func(prediction, y)\n",
    "        print(\"loss = {}\".format(loss))\n",
    "        optimizer.zero_grad()\n",
    "        loss.backward()\n",
    "        optimizer.step()\n"
   ]
  },
  {
   "cell_type": "code",
   "execution_count": 25,
   "metadata": {},
   "outputs": [],
   "source": [
    "torch.save(net, 'net.pkl')  # save entire net in a file named 'net.pkl' (saved in the current dir)"
   ]
  },
  {
   "cell_type": "code",
   "execution_count": 26,
   "metadata": {},
   "outputs": [],
   "source": [
    "torch.save(net.state_dict(), 'net_params.pkl')   # save only the parameters in a file named 'net_params.pkl'"
   ]
  },
  {
   "cell_type": "code",
   "execution_count": 27,
   "metadata": {},
   "outputs": [
    {
     "name": "stdout",
     "output_type": "stream",
     "text": [
      "x= tensor([[-1.0000],\n",
      "        [-0.7778],\n",
      "        [-0.5556],\n",
      "        [-0.3333],\n",
      "        [-0.1111],\n",
      "        [ 0.1111],\n",
      "        [ 0.3333],\n",
      "        [ 0.5556],\n",
      "        [ 0.7778],\n",
      "        [ 1.0000]])\n",
      "y= tensor([[1.0523],\n",
      "        [0.7592],\n",
      "        [0.3843],\n",
      "        [0.3107],\n",
      "        [0.1925],\n",
      "        [0.1077],\n",
      "        [0.1444],\n",
      "        [0.4695],\n",
      "        [0.7360],\n",
      "        [1.0354]])\n",
      "prediction= tensor([[0.8853],\n",
      "        [0.7058],\n",
      "        [0.5262],\n",
      "        [0.3608],\n",
      "        [0.2369],\n",
      "        [0.1771],\n",
      "        [0.2864],\n",
      "        [0.4907],\n",
      "        [0.6932],\n",
      "        [0.8947]], grad_fn=<AddmmBackward>)\n",
      "loss = 0.010240771807730198\n"
     ]
    }
   ],
   "source": [
    "# restore entire net to net2\n",
    "net2 = torch.load('net.pkl')\n",
    "prediction = net2(x)\n",
    "\n",
    "print(\"x= {}\".format(x))\n",
    "print(\"y= {}\".format(y))\n",
    "print(\"prediction= {}\".format(prediction))\n",
    "\n",
    "loss = loss_func(prediction, y)\n",
    "print(\"loss = {}\".format(loss))"
   ]
  },
  {
   "cell_type": "code",
   "execution_count": 29,
   "metadata": {},
   "outputs": [
    {
     "name": "stdout",
     "output_type": "stream",
     "text": [
      "x= tensor([[-1.0000],\n",
      "        [-0.7778],\n",
      "        [-0.5556],\n",
      "        [-0.3333],\n",
      "        [-0.1111],\n",
      "        [ 0.1111],\n",
      "        [ 0.3333],\n",
      "        [ 0.5556],\n",
      "        [ 0.7778],\n",
      "        [ 1.0000]])\n",
      "y= tensor([[1.0523],\n",
      "        [0.7592],\n",
      "        [0.3843],\n",
      "        [0.3107],\n",
      "        [0.1925],\n",
      "        [0.1077],\n",
      "        [0.1444],\n",
      "        [0.4695],\n",
      "        [0.7360],\n",
      "        [1.0354]])\n",
      "prediction= tensor([[0.8853],\n",
      "        [0.7058],\n",
      "        [0.5262],\n",
      "        [0.3608],\n",
      "        [0.2369],\n",
      "        [0.1771],\n",
      "        [0.2864],\n",
      "        [0.4907],\n",
      "        [0.6932],\n",
      "        [0.8947]], grad_fn=<AddmmBackward>)\n",
      "loss = 0.010240771807730198\n"
     ]
    }
   ],
   "source": [
    "# restore only the parameters of net to net3\n",
    "net3 = torch.nn.Sequential(\n",
    "    torch.nn.Linear(1, 10),\n",
    "    torch.nn.ReLU(),\n",
    "    torch.nn.Linear(10, 1)\n",
    ")\n",
    "\n",
    "# copy net's parameters into net3\n",
    "net3.load_state_dict(torch.load('net_params.pkl'))\n",
    "prediction = net3(x)\n",
    "\n",
    "print(\"x= {}\".format(x))\n",
    "print(\"y= {}\".format(y))\n",
    "print(\"prediction= {}\".format(prediction))\n",
    "\n",
    "loss = loss_func(prediction, y)\n",
    "print(\"loss = {}\".format(loss))"
   ]
  },
  {
   "cell_type": "code",
   "execution_count": null,
   "metadata": {},
   "outputs": [],
   "source": []
  }
 ],
 "metadata": {
  "kernelspec": {
   "display_name": "ve_pytorch",
   "language": "python",
   "name": "ve_pytorch"
  },
  "language_info": {
   "codemirror_mode": {
    "name": "ipython",
    "version": 3
   },
   "file_extension": ".py",
   "mimetype": "text/x-python",
   "name": "python",
   "nbconvert_exporter": "python",
   "pygments_lexer": "ipython3",
   "version": "3.5.2"
  }
 },
 "nbformat": 4,
 "nbformat_minor": 4
}
