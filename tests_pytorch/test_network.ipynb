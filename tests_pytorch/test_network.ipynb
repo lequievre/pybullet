{
 "cells": [
  {
   "cell_type": "code",
   "execution_count": 1,
   "metadata": {},
   "outputs": [],
   "source": [
    "# Laurent LEQUIEVRE\n",
    "# Research Engineer, CNRS (France)\n",
    "# Institut Pascal UMR6602\n",
    "# laurent.lequievre@uca.fr"
   ]
  },
  {
   "cell_type": "markdown",
   "metadata": {},
   "source": [
    "A REMINDER : CLASS torch.nn.Linear(in_features, out_features, bias=True)\n",
    "\n",
    "Applies a linear transformation to the incoming data: y = x*W^T + b\n",
    "\n",
    "Parameters:\n",
    "\n",
    "in_features -> size of each input sample (i.e. size of x)\n",
    "\n",
    "out_features -> size of each output sample (i.e. size of y)\n",
    "\n",
    "bias -> If set to False, the layer will not learn an additive bias. Default: True\n",
    "    \n",
    "Note that the weights W have shape (out_features, in_features) and biases b have shape (out_features). \n",
    "They are initialized randomly and can be changed later \n",
    "(e.g. during the training of a Neural Network they are updated by some optimization algorithm)."
   ]
  },
  {
   "cell_type": "code",
   "execution_count": 3,
   "metadata": {},
   "outputs": [],
   "source": [
    "import torch\n",
    "import torch.nn as nn"
   ]
  },
  {
   "cell_type": "code",
   "execution_count": 4,
   "metadata": {},
   "outputs": [],
   "source": [
    "# Concrete example of nn.Linear\n",
    "# Create a tensor x of size 3 x 2\n",
    "# Where x contains three inputs (i.e. the batch size is 3), x[0], x[1] and x[3], each of size 2\n",
    "x = torch.tensor([[1.0, -1.0],\n",
    "                  [0.0,  1.0],\n",
    "                  [0.0,  0.0]])\n",
    "\n",
    "in_features = x.shape[1]  # = 2\n",
    "out_features = 5\n",
    "\n",
    "m = nn.Linear(in_features, out_features)\n",
    "\n",
    "y = m(x)\n",
    "\n",
    "# create a fully connected linear layer, which takes input x of shape (batch_size, in_features), \n",
    "# where batch size is the number of inputs (each of size in_features) \n",
    "# which are passed to the network at once (as a single tensor), \n",
    "# and transforms it by the linear equation y = x*W^T + b into a tensor y of shape (batch_size, out_features).\n",
    "\n",
    "# Internal parameters :\n",
    "# -> Weights W have shape (out_features, in_features) -> W(5,2)\n",
    "# -> Biases b have shape (out_features) -> b(5)\n",
    "\n",
    "# Output :\n",
    "# y is going to be of shape (batch size, out_features) -> y(3, 5).\n",
    "\n",
    "# and (behind the scenes) it is computed as:\n",
    "# y = x.matmul(m.weight.t()) + m.bias  # y = x*W^T + b\n",
    "# ==> y(3,5) = x(3,2) * W^T(2,5) + b(5)"
   ]
  },
  {
   "cell_type": "code",
   "execution_count": 5,
   "metadata": {},
   "outputs": [
    {
     "name": "stdout",
     "output_type": "stream",
     "text": [
      "torch.Size([5, 2])\n",
      "Parameter containing:\n",
      "tensor([[ 0.4190,  0.5604],\n",
      "        [ 0.5790, -0.5870],\n",
      "        [-0.3307, -0.4128],\n",
      "        [ 0.3591,  0.2274],\n",
      "        [ 0.5035,  0.3928]], requires_grad=True)\n"
     ]
    }
   ],
   "source": [
    "# m.weight and m.bias were initialized randomly.\n",
    "print(m.weight.size())\n",
    "print(m.weight)"
   ]
  },
  {
   "cell_type": "code",
   "execution_count": 6,
   "metadata": {},
   "outputs": [
    {
     "name": "stdout",
     "output_type": "stream",
     "text": [
      "torch.Size([5])\n",
      "Parameter containing:\n",
      "tensor([ 0.4375, -0.2938, -0.6343, -0.1920, -0.0142], requires_grad=True)\n"
     ]
    }
   ],
   "source": [
    "print(m.bias.size())\n",
    "print(m.bias)"
   ]
  },
  {
   "cell_type": "code",
   "execution_count": 7,
   "metadata": {},
   "outputs": [
    {
     "name": "stdout",
     "output_type": "stream",
     "text": [
      "torch.Size([3, 5])\n",
      "tensor([[ 0.2962,  0.8721, -0.5521, -0.0603,  0.0964],\n",
      "        [ 0.9979, -0.8808, -1.0471,  0.0354,  0.3786],\n",
      "        [ 0.4375, -0.2938, -0.6343, -0.1920, -0.0142]],\n",
      "       grad_fn=<AddmmBackward>)\n"
     ]
    }
   ],
   "source": [
    "# The output y is :\n",
    "print(y.size())\n",
    "print(y)"
   ]
  },
  {
   "cell_type": "code",
   "execution_count": 8,
   "metadata": {},
   "outputs": [],
   "source": [
    "import torch\n",
    "import torch.nn as nn  # define a shortcut 'nn' to avoid always use 'torch.nn'\n",
    "import torch.nn.functional as F # define a shortcut 'F' to avoid always use 'torch.nn.functional' "
   ]
  },
  {
   "cell_type": "markdown",
   "metadata": {},
   "source": [
    "<img src=\"relu.png\">"
   ]
  },
  {
   "cell_type": "code",
   "execution_count": 9,
   "metadata": {},
   "outputs": [
    {
     "name": "stdout",
     "output_type": "stream",
     "text": [
      "input : tensor([ 1., -1.])\n",
      "--------------------------------\n",
      "Weight : Parameter containing:\n",
      "tensor([[ 0.1969,  0.6429],\n",
      "        [ 0.4592, -0.5414],\n",
      "        [ 0.3530, -0.3999]], requires_grad=True)\n",
      "Bias : Parameter containing:\n",
      "tensor([-0.6507,  0.3265,  0.4746], requires_grad=True)\n",
      "--------------------------------\n",
      "output : tensor([-1.0967,  1.3271,  1.2274], grad_fn=<AddBackward0>)\n",
      "y : tensor([-1.0967,  1.3271,  1.2274], grad_fn=<AddBackward0>)\n",
      "--------------------------------\n",
      "activation : tensor([0.0000, 1.3271, 1.2274], grad_fn=<ReluBackward0>)\n"
     ]
    }
   ],
   "source": [
    "# Example 1 :\n",
    "# =========\n",
    "# A simple network : 2 Inputs, 3 outputs and 1 relu activation Function\n",
    "# Defined step by step with a Linear Module\n",
    "\n",
    "x = torch.tensor([1.0, -1.0]) # define a tensor torch.Size([2])\n",
    "\n",
    "net = nn.Linear(2, 3) # define a Linear network with in_features=2, out_features=3, bias=True (by default)\n",
    "\n",
    "print(\"input : {}\".format(x))\n",
    "print(\"--------------------------------\")\n",
    "\n",
    "print(\"Weight : {}\".format(net.weight))\n",
    "print(\"Bias : {}\".format(net.bias))\n",
    "print(\"--------------------------------\")\n",
    "\n",
    "output = net.forward(x) # forward tensor into the net and get the output\n",
    "y = x.matmul(net.weight.t()) + net.bias # just to verify the equation : y = x*W^T + b\n",
    "\n",
    "print(\"output : {}\".format(output))\n",
    "print(\"y : {}\".format(y))\n",
    "print(\"--------------------------------\")\n",
    "\n",
    "# ReLU: ReLU stands for Rectified Linear Unit. \n",
    "# It takes a real-valued input and thresholds it at zero (replaces negative values with zero)\n",
    "# f(x) = max(0, x)\n",
    "activation = F.relu(output) # compute activation of output\n",
    "\n",
    "print(\"activation : {}\".format(activation))"
   ]
  },
  {
   "cell_type": "code",
   "execution_count": 10,
   "metadata": {},
   "outputs": [
    {
     "name": "stdout",
     "output_type": "stream",
     "text": [
      "input : tensor([ 1., -1.])\n",
      "--------------------------------\n",
      "network structure : Sequential(\n",
      "  (0): Linear(in_features=2, out_features=3, bias=True)\n",
      "  (1): ReLU()\n",
      ")\n",
      "--------------------------------\n",
      "Weight : Parameter containing:\n",
      "tensor([[-0.2022, -0.1459],\n",
      "        [ 0.5722, -0.6757],\n",
      "        [ 0.5789,  0.6603]], requires_grad=True)\n",
      "Bias : Parameter containing:\n",
      "tensor([ 0.1813,  0.0218, -0.6766], requires_grad=True)\n",
      "Activation function : ReLU()\n",
      "--------------------------------\n",
      "activation : tensor([0.1250, 1.2698, 0.0000], grad_fn=<ReluBackward0>)\n",
      "--------------------------------\n",
      "internal output : tensor([ 0.1250,  1.2698, -0.7580], grad_fn=<AddBackward0>)\n",
      "ReLU(output) :tensor([0.1250, 1.2698, 0.0000], grad_fn=<ReluBackward0>)\n"
     ]
    }
   ],
   "source": [
    "# Example 2 :\n",
    "# =========\n",
    "# The same network defined with a Sequential container\n",
    "# A sequential container. Modules will be added to it in the order they are passed in the constructor.\n",
    "\n",
    "# nn.ReLU() creates an nn.Module which you can be added to an nn.Sequential model.\n",
    "# nn.functional.relu is just the functional API call to the relu function.\n",
    "\n",
    "x = torch.tensor([1.0, -1.0]) # define a tensor torch.Size([2])\n",
    "\n",
    "net = nn.Sequential(\n",
    "                    nn.Linear(2, 3),\n",
    "                    nn.ReLU()\n",
    "                    );\n",
    "\n",
    "print(\"input : {}\".format(x))\n",
    "print(\"--------------------------------\")\n",
    "\n",
    "print(\"network structure : {}\".format(net))\n",
    "\n",
    "print(\"--------------------------------\")\n",
    "print(\"Weight : {}\".format(net[0].weight))  # net parameters contained at index 0\n",
    "print(\"Bias : {}\".format(net[0].bias)) # net parameters contained at index 0\n",
    "print(\"Activation function : {}\".format(net[1]))\n",
    "print(\"--------------------------------\")\n",
    "\n",
    "activation = net.forward(x) # forward tensor into the net and get the output\n",
    "print(\"activation : {}\".format(activation))\n",
    "\n",
    "print(\"--------------------------------\")\n",
    "output = torch.matmul(x,net[0].weight.t()) + net[0].bias;  # Just to verify\n",
    "print(\"internal output : {}\".format(output))\n",
    "print(\"ReLU(output) :{}\".format(torch.nn.ReLU().forward(output))) # Just to verify\n"
   ]
  },
  {
   "cell_type": "code",
   "execution_count": 11,
   "metadata": {},
   "outputs": [
    {
     "name": "stdout",
     "output_type": "stream",
     "text": [
      "input : tensor([ 1., -1.])\n",
      "--------------------------------\n",
      "Weight : Parameter containing:\n",
      "tensor([[-0.2770,  0.2024],\n",
      "        [-0.3914, -0.1047],\n",
      "        [-0.3083,  0.5235]], requires_grad=True)\n",
      "Bias : Parameter containing:\n",
      "tensor([ 0.0064, -0.2337,  0.0967], requires_grad=True)\n",
      "Activation function : ReLU()\n",
      "--------------------------------\n",
      "activation : tensor([0., 0., 0.], grad_fn=<ReluBackward0>)\n",
      "--------------------------------\n",
      "internal output : tensor([-0.4730, -0.5205, -0.7351], grad_fn=<AddBackward0>)\n",
      "ReLU(output) :tensor([0., 0., 0.], grad_fn=<ReluBackward0>)\n"
     ]
    }
   ],
   "source": [
    "# Example 3 :\n",
    "# =========\n",
    "# The same network defined as a custom Module subclass without Sequential container\n",
    "\n",
    "class NeuralNetwork(nn.Module):\n",
    "    def __init__(self, n_inputs, n_outputs):\n",
    "        super().__init__()  # Call parent nn.Module constructor\n",
    "        self.l1 = nn.Linear(n_inputs, n_outputs)\n",
    "        self.act1 = nn.ReLU()\n",
    "\n",
    "    def forward(self, x):\n",
    "        x = self.l1(x)\n",
    "        x = self.act1(x)\n",
    "        return x\n",
    "\n",
    "\n",
    "    \n",
    "model = NeuralNetwork(2, 3)\n",
    "x = torch.tensor([1.0, -1.0]) # define a tensor torch.Size([2])\n",
    "activation = model.forward(x)\n",
    "\n",
    "print(\"input : {}\".format(x))\n",
    "print(\"--------------------------------\")\n",
    "print(\"Weight : {}\".format(model.l1.weight)) \n",
    "print(\"Bias : {}\".format(model.l1.bias))\n",
    "print(\"Activation function : {}\".format(model.act1))\n",
    "print(\"--------------------------------\")\n",
    "print(\"activation : {}\".format(activation))\n",
    "print(\"--------------------------------\")\n",
    "output = torch.matmul(x,model.l1.weight.t()) + model.l1.bias;  # Just to verify\n",
    "print(\"internal output : {}\".format(output))\n",
    "print(\"ReLU(output) :{}\".format(torch.nn.ReLU().forward(output))) # Just to verify\n"
   ]
  },
  {
   "cell_type": "code",
   "execution_count": 12,
   "metadata": {},
   "outputs": [
    {
     "name": "stdout",
     "output_type": "stream",
     "text": [
      "--------------------------------\n",
      "network structure : Sequential(\n",
      "  (0): Linear(in_features=2, out_features=3, bias=True)\n",
      "  (1): ReLU()\n",
      ")\n",
      "--------------------------------\n",
      "input : tensor([ 1., -1.])\n",
      "--------------------------------\n",
      "Weight : Parameter containing:\n",
      "tensor([[-0.2385, -0.4484],\n",
      "        [-0.1102, -0.2990],\n",
      "        [-0.0571, -0.3893]], requires_grad=True)\n",
      "Bias : Parameter containing:\n",
      "tensor([-0.5386, -0.0299,  0.0042], requires_grad=True)\n",
      "Activation function : ReLU()\n",
      "--------------------------------\n",
      "activation : tensor([0.0000, 0.1590, 0.3364], grad_fn=<ReluBackward0>)\n",
      "--------------------------------\n",
      "internal output : tensor([-0.3288,  0.1590,  0.3364], grad_fn=<AddBackward0>)\n",
      "ReLU(output) :tensor([0.0000, 0.1590, 0.3364], grad_fn=<ReluBackward0>)\n"
     ]
    }
   ],
   "source": [
    "# Example 4 :\n",
    "# =========\n",
    "# The same network defined as a custom Module subclass with Sequential container\n",
    "\n",
    "class NeuralNetworkSequential(nn.Module):\n",
    "    def __init__(self, n_inputs, n_outputs):\n",
    "        super().__init__()  # Call parent nn.Module constructor\n",
    "        self.net = nn.Sequential(\n",
    "                    nn.Linear(n_inputs, n_outputs),\n",
    "                    nn.ReLU()\n",
    "                    );\n",
    "\n",
    "    def forward(self, x):\n",
    "        x = self.net(x)\n",
    "        return x\n",
    "\n",
    "\n",
    "    \n",
    "model = NeuralNetworkSequential(2, 3)\n",
    "\n",
    "print(\"--------------------------------\")\n",
    "print(\"network structure : {}\".format(net))\n",
    "print(\"--------------------------------\")\n",
    "\n",
    "x = torch.tensor([1.0, -1.0]) # define a tensor torch.Size([2])\n",
    "activation = model.forward(x)\n",
    "\n",
    "print(\"input : {}\".format(x))\n",
    "print(\"--------------------------------\")\n",
    "print(\"Weight : {}\".format(model.net[0].weight)) \n",
    "print(\"Bias : {}\".format(model.net[0].bias))\n",
    "print(\"Activation function : {}\".format(model.net[1]))\n",
    "print(\"--------------------------------\")\n",
    "print(\"activation : {}\".format(activation))\n",
    "print(\"--------------------------------\")\n",
    "output = torch.matmul(x,model.net[0].weight.t()) + model.net[0].bias;  # Just to verify\n",
    "print(\"internal output : {}\".format(output))\n",
    "print(\"ReLU(output) :{}\".format(torch.nn.ReLU().forward(output))) # Just to verify\n"
   ]
  },
  {
   "cell_type": "markdown",
   "metadata": {},
   "source": [
    "The basic unit of computation in a neural network is the neuron, often called node or unit.\n",
    "A network is built from individual nodes. Each nodes has some number of weighted inputs (weight and bias). \n",
    "These weighted inputs are summed together (a linear combination) then passed through an activation function to get the node’s output.\n",
    "\n",
    "Input Nodes :\n",
    "- The Input nodes provide information from the outside world to the network and are together referred to as the “Input Layer”. \n",
    "- No computation is performed in any of the Input nodes. \n",
    "- They just pass on the information to the hidden nodes.\n",
    "\n",
    "Hidden Nodes :\n",
    "- The Hidden nodes have no direct connection with the outside world (hence the name “hidden”). \n",
    "- They perform computations and transfer information from the input nodes to the output nodes. \n",
    "- A collection of hidden nodes forms a “Hidden Layer”. \n",
    "- While a feedforward network will only have a single input layer and a single output layer, it can have zero or multiple Hidden Layers.\n",
    "\n",
    "Output Nodes :\n",
    "- The Output nodes are collectively referred to as the “Output Layer” and are responsible for computations and transferring information from the network to the outside world.\n"
   ]
  },
  {
   "cell_type": "code",
   "execution_count": 12,
   "metadata": {},
   "outputs": [],
   "source": [
    "# An example of a Feed Forward Network : 3 Layers\n",
    "# -> 2 Hidden Layers : 4 and 6 Nodes, and 1 Output Node"
   ]
  },
  {
   "cell_type": "markdown",
   "metadata": {},
   "source": [
    "<img src=\"feed_forward_net_sigmoid.png\">"
   ]
  },
  {
   "cell_type": "code",
   "execution_count": null,
   "metadata": {},
   "outputs": [],
   "source": [
    "# Sigmoid : takes a real-valued input and squashes it to range between 0 and 1\n",
    "# σ(x) = 1 / (1 + exp(−x))"
   ]
  },
  {
   "cell_type": "markdown",
   "metadata": {},
   "source": [
    "<img src=\"sigmoid.png\">"
   ]
  },
  {
   "cell_type": "code",
   "execution_count": 15,
   "metadata": {},
   "outputs": [
    {
     "name": "stdout",
     "output_type": "stream",
     "text": [
      "--------------------------------\n",
      "network structure : FeedForwardSequential(\n",
      "  (net): Sequential(\n",
      "    (0): Linear(in_features=1, out_features=4, bias=True)\n",
      "    (1): Sigmoid()\n",
      "    (2): Linear(in_features=4, out_features=6, bias=True)\n",
      "    (3): Sigmoid()\n",
      "    (4): Linear(in_features=6, out_features=1, bias=True)\n",
      "  )\n",
      ")\n",
      "nb parameters : 45\n",
      "--------------------------------\n",
      "input : tensor([[1.],\n",
      "        [2.],\n",
      "        [3.]]) of size torch.Size([3, 1])\n",
      "--------------------------------\n",
      "[0] Weight : Parameter containing:\n",
      "tensor([[0.6936],\n",
      "        [0.4780],\n",
      "        [0.1295],\n",
      "        [0.2701]], requires_grad=True)\n",
      "[0] Bias : Parameter containing:\n",
      "tensor([-0.1720,  0.0072,  0.0728,  0.6331], requires_grad=True)\n",
      "--------------------------------\n",
      "[1] Activation function : Sigmoid()\n",
      "--------------------------------\n",
      "[2] Weight : Parameter containing:\n",
      "tensor([[-0.1862, -0.1210,  0.4520, -0.2086],\n",
      "        [-0.2866, -0.4171, -0.1762, -0.3155],\n",
      "        [ 0.3138,  0.0948,  0.4626, -0.0007],\n",
      "        [-0.2477, -0.0628, -0.0021,  0.2605],\n",
      "        [ 0.1784, -0.4547, -0.2019,  0.0210],\n",
      "        [-0.4751, -0.1853,  0.0716, -0.0915]], requires_grad=True)\n",
      "[2] Bias : Parameter containing:\n",
      "tensor([ 0.0699,  0.2251,  0.3381, -0.3241,  0.0887, -0.2449],\n",
      "       requires_grad=True)\n",
      "--------------------------------\n",
      "[3] Activation function : Sigmoid()\n",
      "--------------------------------\n",
      "[4] Weight : Parameter containing:\n",
      "tensor([[ 0.1936,  0.0222, -0.3580,  0.3715, -0.2857, -0.0495]],\n",
      "       requires_grad=True)\n",
      "[4] Bias : Parameter containing:\n",
      "tensor([-0.4037], requires_grad=True)\n",
      "--------------------------------\n",
      "activation : tensor([[-0.5422],\n",
      "        [-0.5493],\n",
      "        [-0.5539]], grad_fn=<AddmmBackward>) of size torch.Size([3, 1])\n",
      "45\n"
     ]
    }
   ],
   "source": [
    "# Example 4 :\n",
    "# =========\n",
    "# An example of a Feed Forward Network : 3 Layers\n",
    "# -> 2 Hidden Layers : 4 and 6 Nodes, and 1 Output Node\n",
    "\n",
    "class FeedForwardSequential(nn.Module):\n",
    "    def __init__(self):\n",
    "        super().__init__()  # Call parent nn.Module constructor\n",
    "        self.net = nn.Sequential(\n",
    "                    nn.Linear(1,4),  # Hidden layer of 4 Nodes -> for input of 1 element (or batch of 1 element)\n",
    "                    nn.Sigmoid(),\n",
    "                    nn.Linear(4,6),  # Hidden layer of 6 Nodes\n",
    "                    nn.Sigmoid(),\n",
    "                    nn.Linear(6,1)  # Output layer of 1 Node -> for output of 1 element (or batch of 1 element)\n",
    "                    );\n",
    "\n",
    "    def forward(self, x):\n",
    "        x = self.net(x)\n",
    "        return x\n",
    "\n",
    "\n",
    "# Function to calculate the nb parameters of a network model (parameters with a gradient)\n",
    "def count_parameters(model):\n",
    "    return sum(p.numel() for p in model.parameters() if p.requires_grad)\n",
    "\n",
    "\n",
    "model = FeedForwardSequential()\n",
    "\n",
    "print(\"--------------------------------\")\n",
    "print(\"network structure : {}\".format(model))\n",
    "print(\"nb parameters : {}\".format(count_parameters(model)))  # 45 parameters (1*4 + 4 + 4*6 + 6 + 6*1 +1)\n",
    "print(\"--------------------------------\")\n",
    "\n",
    "x = torch.tensor([[1.0],\n",
    "                  [2.0],\n",
    "                  [3.0]\n",
    "                 ]) # define a tensor torch.Size([3, 1]) (a batchsize 3 of 1 element)\n",
    "\n",
    "activation = model.forward(x)\n",
    "\n",
    "print(\"input : {} of size {}\".format(x, x.size()))\n",
    "print(\"--------------------------------\")\n",
    "print(\"[0] Weight : {}\".format(model.net[0].weight)) \n",
    "print(\"[0] Bias : {}\".format(model.net[0].bias))\n",
    "print(\"--------------------------------\")\n",
    "print(\"[1] Activation function : {}\".format(model.net[1]))\n",
    "print(\"--------------------------------\")\n",
    "print(\"[2] Weight : {}\".format(model.net[2].weight)) \n",
    "print(\"[2] Bias : {}\".format(model.net[2].bias))\n",
    "print(\"--------------------------------\")\n",
    "print(\"[3] Activation function : {}\".format(model.net[3]))\n",
    "print(\"--------------------------------\")\n",
    "print(\"[4] Weight : {}\".format(model.net[4].weight)) \n",
    "print(\"[4] Bias : {}\".format(model.net[4].bias))\n",
    "print(\"--------------------------------\")\n",
    "print(\"activation : {} of size {}\".format(activation, activation.size()))\n",
    "\n",
    "# Another solution to calculate the number of model parameters\n",
    "n = sum(p.numel() for p in model.parameters())\n",
    "print(n)"
   ]
  },
  {
   "cell_type": "code",
   "execution_count": null,
   "metadata": {},
   "outputs": [],
   "source": []
  }
 ],
 "metadata": {
  "kernelspec": {
   "display_name": "ve_pytorch",
   "language": "python",
   "name": "ve_pytorch"
  },
  "language_info": {
   "codemirror_mode": {
    "name": "ipython",
    "version": 3
   },
   "file_extension": ".py",
   "mimetype": "text/x-python",
   "name": "python",
   "nbconvert_exporter": "python",
   "pygments_lexer": "ipython3",
   "version": "3.5.2"
  }
 },
 "nbformat": 4,
 "nbformat_minor": 4
}
