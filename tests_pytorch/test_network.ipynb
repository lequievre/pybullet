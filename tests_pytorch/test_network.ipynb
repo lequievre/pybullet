{
 "cells": [
  {
   "cell_type": "code",
   "execution_count": 30,
   "metadata": {},
   "outputs": [],
   "source": [
    "# Laurent LEQUIEVRE\n",
    "# Research Engineer, CNRS (France)\n",
    "# Institut Pascal UMR6602\n",
    "# laurent.lequievre@uca.fr"
   ]
  },
  {
   "cell_type": "markdown",
   "metadata": {},
   "source": [
    "REMINDER\n",
    "========\n",
    "\n",
    "CLASS torch.nn.Linear(in_features, out_features, bias=True)\n",
    "\n",
    "Applies a linear transformation to the incoming data: y = x*W^T + b\n",
    "\n",
    "Parameters:\n",
    "\n",
    "in_features -> size of each input sample (i.e. size of x)\n",
    "\n",
    "out_features -> size of each output sample (i.e. size of y)\n",
    "\n",
    "bias -> If set to False, the layer will not learn an additive bias. Default: True\n",
    "    \n",
    "Note that the weights W have shape (out_features, in_features) and biases b have shape (out_features). \n",
    "They are initialized randomly and can be changed later \n",
    "(e.g. during the training of a Neural Network they are updated by some optimization algorithm)."
   ]
  },
  {
   "cell_type": "code",
   "execution_count": 31,
   "metadata": {},
   "outputs": [],
   "source": [
    "import torch\n",
    "import torch.nn as nn"
   ]
  },
  {
   "cell_type": "code",
   "execution_count": 32,
   "metadata": {},
   "outputs": [],
   "source": [
    "# Concrete example of nn.Linear\n",
    "# Create a tensor x of size 3 x 2\n",
    "# Where x contains three inputs (i.e. the batch size is 3), x[0], x[1] and x[3], each of size 2\n",
    "x = torch.tensor([[1.0, -1.0],\n",
    "                  [0.0,  1.0],\n",
    "                  [0.0,  0.0]])\n",
    "\n",
    "in_features = x.shape[1]  # = 2\n",
    "out_features = 2\n",
    "\n",
    "m = nn.Linear(in_features, out_features)\n",
    "\n",
    "# create a fully connected linear layer, which takes input x of shape (batch_size, in_features), \n",
    "# where batch size is the number of inputs (each of size in_features) \n",
    "# which are passed to the network at once (as a single tensor), \n",
    "# and transforms it by the linear equation y = x*W^T + b into a tensor y of shape (batch_size, out_features).\n",
    "# So output m is going to be of shape (batch size, out_features) = (3, 2).\n",
    "\n",
    "# Internal parameters shape :\n",
    "# -> Note that the weights W have shape (out_features, in_features) \n",
    "# -> and biases b have shape (out_features)"
   ]
  },
  {
   "cell_type": "code",
   "execution_count": 33,
   "metadata": {},
   "outputs": [
    {
     "name": "stdout",
     "output_type": "stream",
     "text": [
      "Parameter containing:\n",
      "tensor([[ 0.2184,  0.4888],\n",
      "        [ 0.1568, -0.4866]], requires_grad=True)\n"
     ]
    }
   ],
   "source": [
    "# m.weight and m.bias were initialized randomly.\n",
    "print(m.weight)"
   ]
  },
  {
   "cell_type": "code",
   "execution_count": 34,
   "metadata": {},
   "outputs": [
    {
     "name": "stdout",
     "output_type": "stream",
     "text": [
      "Parameter containing:\n",
      "tensor([-0.0847, -0.3124], requires_grad=True)\n"
     ]
    }
   ],
   "source": [
    "print(m.bias)"
   ]
  },
  {
   "cell_type": "code",
   "execution_count": 35,
   "metadata": {},
   "outputs": [
    {
     "name": "stdout",
     "output_type": "stream",
     "text": [
      "tensor([[-0.3550,  0.3311],\n",
      "        [ 0.4042, -0.7990],\n",
      "        [-0.0847, -0.3124]], grad_fn=<AddmmBackward>)\n"
     ]
    }
   ],
   "source": [
    "# The output is :\n",
    "y = m(x)\n",
    "print(y)"
   ]
  },
  {
   "cell_type": "markdown",
   "metadata": {},
   "source": [
    "and (behind the scenes) it is computed as:\n",
    "\n",
    "y = x.matmul(m.weight.t()) + m.bias  # y = x*W^T + b\n",
    "\n",
    "i.e.\n",
    "\n",
    "y[i,j] == x[i,0] * m.weight[j,0] + x[i,1] * m.weight[j,1] + m.bias[j]\n",
    "where i is in interval [0, batch_size) and j in [0, out_features)."
   ]
  },
  {
   "cell_type": "code",
   "execution_count": null,
   "metadata": {},
   "outputs": [],
   "source": []
  }
 ],
 "metadata": {
  "kernelspec": {
   "display_name": "ve_pytorch",
   "language": "python",
   "name": "ve_pytorch"
  },
  "language_info": {
   "codemirror_mode": {
    "name": "ipython",
    "version": 3
   },
   "file_extension": ".py",
   "mimetype": "text/x-python",
   "name": "python",
   "nbconvert_exporter": "python",
   "pygments_lexer": "ipython3",
   "version": "3.5.2"
  }
 },
 "nbformat": 4,
 "nbformat_minor": 4
}
